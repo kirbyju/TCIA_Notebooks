{
  "cells": [
    {
      "cell_type": "markdown",
      "source": [
        "You can download and run this notebook locally, or you can run it for free in a cloud environment using Colab or Sagemaker Studio Lab:\n",
        "\n",
        "[![Open In Colab](https://colab.research.google.com/assets/colab-badge.svg)](https://colab.research.google.com/github/kirbyju/TCIA_Notebooks/blob/main/TCGA/TCGA_Clinical.ipynb)\n",
        "\n",
        "[![Open In SageMaker Studio Lab](https://studiolab.sagemaker.aws/studiolab.svg)](https://studiolab.sagemaker.aws/import/github.com/kirbyju/TCIA_Notebooks/blob/main/TCGA/TCGA_Clinical.ipynb)"
      ],
      "metadata": {
        "id": "eOSzF5R89gAh"
      },
      "id": "eOSzF5R89gAh"
    },
    {
      "cell_type": "markdown",
      "source": [
        "# Summary\n",
        "\n",
        "Access to large, high quality data is essential for researchers to understand disease and precision medicine pathways, especially in cancer. However HIPAA constraints make sharing medical images outside an individual institution a complex process. [The Cancer Imaging Archive (TCIA)](https://www.cancerimagingarchive.net/) is a public service funded by the National Cancer Institute which addresses this challenge by providing hosting and de-identification services to take major burdens of data sharing off researchers.\n",
        "\n",
        "[The Cancer Genome Atlas (TCGA)](https://www.cancer.gov/ccg/research/genome-sequencing/tcga) began in 2006 as a three-year pilot jointly sponsored by the National Cancer Institute (NCI) and National Human Genome Research Institute (NHGRI). The TCGA pilot project (focused initially on glioblastoma, ovary, and lung cancers) confirmed that an atlas of genomic changes could be constructed for specific cancer types. It also showed that national networks of research and technology teams working on related projects could pool their efforts, create an economy of scale, and develop an infrastructure for making the data publicly accessible. The success of that pilot encouraged the National Institutes of Health (NIH) to invest in TCGA's efforts to collect and characterize more than 20 additional tumor types and make the resulting data freely accessible for researchers to download.  \n",
        "\n",
        "The genomic, clinical and histopathology images from the project are available via NCI's [Genomic Data Commons (GDC)](https://gdc.cancer.gov/).  NCI's Cancer Imaging Program subsequently leveraged the agreements with TCGA Tissue Source Sites to collect [clinical diagnostic images from these subjects](https://wiki.cancerimagingarchive.net/x/sgEe) and make them available on The Cancer Imaging Archive (TCIA).  By combining the imaging data from TCIA with the other data types collected by TCGA a research community focused on connecting cancer phenotypes to genotypes was formed, resulting in over one hundred peer-reviewed publications about these data.\n",
        "\n",
        "**This notebook is focused on using the clinical data available on the GDC to create a cohort of interest and then obtaining the related radiology data for those subjects from TCIA.** If you're interested in additional TCIA notebooks and coding examples check out https://github.com/kirbyju/TCIA_Notebooks."
      ],
      "metadata": {
        "id": "PzZfvWVey0pW"
      },
      "id": "PzZfvWVey0pW"
    },
    {
      "cell_type": "markdown",
      "id": "d01de9f0-d224-4fff-8336-b386a44b96b4",
      "metadata": {
        "id": "d01de9f0-d224-4fff-8336-b386a44b96b4"
      },
      "source": [
        "# Setup\n",
        "Install https://pypi.org/project/tcia-utils/ to make it easier to access TCIA data via its APIs."
      ]
    },
    {
      "cell_type": "code",
      "source": [
        "import sys\n",
        "\n",
        "!{sys.executable} -m pip install --upgrade -q tcia-utils"
      ],
      "metadata": {
        "id": "mCKKW3gR0yTr"
      },
      "id": "mCKKW3gR0yTr",
      "execution_count": null,
      "outputs": []
    },
    {
      "cell_type": "code",
      "execution_count": null,
      "id": "aeab86fb-e06c-4022-be72-02d0c1b207e8",
      "metadata": {
        "id": "aeab86fb-e06c-4022-be72-02d0c1b207e8"
      },
      "outputs": [],
      "source": [
        "import pandas as pd\n",
        "import numpy as np\n",
        "import json\n",
        "import io\n",
        "import requests\n",
        "import plotly.express as px\n",
        "from tcia_utils import nbia\n",
        "\n",
        "# set logging level to INFO in Google Colab (not necessary in Jupyter)\n",
        "if 'google.colab' in sys.modules:\n",
        "  import logging\n",
        "\n",
        "  for handler in logging.root.handlers[:]:\n",
        "      logging.root.removeHandler(handler)\n",
        "\n",
        "  # Set handler with level = info\n",
        "  logging.basicConfig(format='%(asctime)s:%(levelname)s:%(message)s',\n",
        "                      level=logging.INFO)\n",
        "\n",
        "  print(\"Google Colab Logging set to INFO\")"
      ]
    },
    {
      "cell_type": "markdown",
      "metadata": {
        "id": "kob3V1Y4pTIF"
      },
      "source": [
        "# Accessing clinical data from NCI's Genomic Data Commons (GDC)\n",
        "\n",
        "There is a significant amount of supporting genomic and clinical data for these subjects in the [Genomic Data Commons](https://portal.gdc.cancer.gov/).  If you have any questions about GDC, please consult their documentation at https://docs.gdc.cancer.gov/API/Users_Guide/Getting_Started/ and their helpdesk at support@nci-gdc.datacommons.io.\n",
        "\n",
        "**Note:** TCIA datasets that contain images of the head require special permission due to the potential privacy risks associated with 3D facial reconstruction of such images.  As a result, if you would like to look at TCGA-LGG, TCGA-GBM or TCGA-HNSC datasets you must sign and submit a [TCIA Restricted License Agreement](https://wiki.cancerimagingarchive.net/download/attachments/4556915/TCIA%20Restricted%20License%2020220519.pdf?version=1&modificationDate=1652964581655&api=v2) to help@cancerimagingarchive.net before accessing the data.  After completing this process, you'll be able to easily access them by using the **getToken()** function in **tcia_utils** to create a token with your login credentials.\n"
      ],
      "id": "kob3V1Y4pTIF"
    },
    {
      "cell_type": "code",
      "source": [
        "# If you want to include \"restricted\" collections (GBM, LGG, HNSC),\n",
        "# you must login first.\n",
        "#\n",
        "# Skip this step if you just want to anonymously access\n",
        "# the fully public datasets.\n",
        "\n",
        "nbia.getToken()"
      ],
      "metadata": {
        "id": "tznusqy_wSuY"
      },
      "id": "tznusqy_wSuY",
      "execution_count": null,
      "outputs": []
    },
    {
      "cell_type": "markdown",
      "source": [
        "First let's create an inventory of the TCGA cancer types where imaging exists on TCIA."
      ],
      "metadata": {
        "id": "UCLM_a0a4jvR"
      },
      "id": "UCLM_a0a4jvR"
    },
    {
      "cell_type": "code",
      "source": [
        "# get list of all collections\n",
        "collections_json = nbia.getCollections()\n",
        "print(str(len(collections_json)) + \" collections were found.\")\n",
        "collections = [item['Collection'] for item in collections_json]\n",
        "\n",
        "# select only TCGA collections\n",
        "collectionSubset = [item for item in collections if \"TCGA\" in item]\n",
        "collections = collectionSubset\n",
        "print(str(len(collections)) + \" collections matched your subset.\")\n",
        "print(collections)"
      ],
      "metadata": {
        "id": "mabak46_xVRn"
      },
      "id": "mabak46_xVRn",
      "execution_count": null,
      "outputs": []
    },
    {
      "cell_type": "markdown",
      "source": [
        "Next, let's query the GDC API to obtain the clinical data for TCGA data."
      ],
      "metadata": {
        "id": "jr_DlLCC5h-L"
      },
      "id": "jr_DlLCC5h-L"
    },
    {
      "cell_type": "code",
      "execution_count": null,
      "metadata": {
        "id": "RDoAfBLopdCF"
      },
      "outputs": [],
      "source": [
        "cases_endpt = 'https://api.gdc.cancer.gov/cases'\n",
        "\n",
        "filters = {\n",
        "    \"op\": \"in\",\n",
        "    \"content\":{\n",
        "        \"field\": \"project.project_id\",\n",
        "        \"value\": collections\n",
        "        }\n",
        "    }\n",
        "\n",
        "fields = [\n",
        "    \"project.project_id\",\n",
        "    \"submitter_id\",\n",
        "    ]\n",
        "\n",
        "fields = ','.join(fields)\n",
        "\n",
        "expand = [ ## For the allowable values for this list, look under \"mapping\" at https://api.gdc.cancer.gov/cases/_mapping\n",
        "    \"demographic\",\n",
        "    \"diagnoses\",\n",
        "    \"diagnoses.treatments\",\n",
        "    \"exposures\",\n",
        "    \"family_histories\"\n",
        "    ]\n",
        "\n",
        "expand = ','.join(expand)\n",
        "\n",
        "params = {\n",
        "    \"filters\": json.dumps(filters),\n",
        "    \"expand\": expand,\n",
        "    \"fields\": fields,\n",
        "    \"format\": \"TSV\", ## This can be \"JSON\" too\n",
        "    \"size\": \"10000\", ## If you are re-using this for other projects, you may need to modify this and the \"from\" number.\n",
        "    \"from\":\"0\"\n",
        "    }\n",
        "\n",
        "response = requests.get(cases_endpt, params = params)\n",
        "\n",
        "output = response.content.decode('UTF-8')\n",
        "clinicalDf = pd.read_csv(io.StringIO(output), sep='\\t')\n",
        "\n",
        "clinicalDf\n"
      ],
      "id": "RDoAfBLopdCF"
    },
    {
      "cell_type": "markdown",
      "metadata": {
        "id": "3PUShHIvp_ME"
      },
      "source": [
        "Now let's merge the clinical data with our radiology data so that we're only looking at subjects where we have both.  We'll first need to pull the list of patient IDs for each cancer type from TCIA."
      ],
      "id": "3PUShHIvp_ME"
    },
    {
      "cell_type": "code",
      "source": [
        "# get inventory of patients with radiology data\n",
        "patients = pd.DataFrame()\n",
        "\n",
        "for collection in collections:\n",
        "    patientCollection = nbia.getPatient(collection)\n",
        "    patients = pd.concat([patients, pd.DataFrame(patientCollection)], ignore_index=True)\n",
        "\n",
        "patients"
      ],
      "metadata": {
        "id": "wAes4Bfjy0VF"
      },
      "id": "wAes4Bfjy0VF",
      "execution_count": null,
      "outputs": []
    },
    {
      "cell_type": "markdown",
      "source": [
        "Now we'll reduce the clinical data to patients where we also have radiology images."
      ],
      "metadata": {
        "id": "ENop-Rgs530X"
      },
      "id": "ENop-Rgs530X"
    },
    {
      "cell_type": "code",
      "execution_count": null,
      "metadata": {
        "id": "C-fdbnVTyhRp"
      },
      "outputs": [],
      "source": [
        "# create new dataframe from patients with only unique IDs of patients with imaging\n",
        "uniquePatients = pd.DataFrame(patients['PatientId'].unique(), columns=['PatientId'])\n",
        "\n",
        "# Rename the patient id column to match uniquePatients\n",
        "clinicalDf = clinicalDf.rename(columns={'submitter_id': 'PatientId'})\n",
        "\n",
        "# Merge the dataframes\n",
        "mergedClinical = uniquePatients.merge(clinicalDf, how='left', on='PatientId')\n",
        "\n",
        "mergedClinical"
      ],
      "id": "C-fdbnVTyhRp"
    },
    {
      "cell_type": "markdown",
      "metadata": {
        "id": "emM3QUp6fUvY"
      },
      "source": [
        "## Visualize clinical data\n",
        "\n",
        "Let's investigate what types of clinical information are available and how often they are populated.  First we'll drop all the columns where no information is provided and then visualize the number of times there are null values in the columns that remain."
      ],
      "id": "emM3QUp6fUvY"
    },
    {
      "cell_type": "code",
      "source": [
        "# Drop columns with all NaN values from clinical data\n",
        "cleanClinical = mergedClinical.dropna(axis=1, how='all')\n",
        "\n",
        "null_counts = cleanClinical.isnull().sum()\n",
        "\n",
        "null_df = null_counts.reset_index()\n",
        "null_df.columns = ['Column', 'Null Count']\n",
        "\n",
        "# Create a bar chart using Plotly\n",
        "fig = px.bar(null_df, x='Column', y='Null Count', title='Null Count per Column',\n",
        "             labels={'Column': 'Column', 'Null Count': 'Null Count'},\n",
        "             hover_data=['Column', 'Null Count'])\n",
        "\n",
        "# Update layout for better readability\n",
        "fig.update_layout(xaxis_tickangle=-45)\n",
        "\n",
        "# Show the chart\n",
        "fig.show()\n"
      ],
      "metadata": {
        "id": "uopd-KsP7NdL"
      },
      "execution_count": null,
      "outputs": [],
      "id": "uopd-KsP7NdL"
    },
    {
      "cell_type": "markdown",
      "id": "42944474-eb3c-428c-9a33-ba42a64d9a39",
      "metadata": {
        "id": "42944474-eb3c-428c-9a33-ba42a64d9a39"
      },
      "source": [
        "# Cohort selection\n",
        "\n",
        "Let's investigate how many potential cases are available for each **tissue_or_organ_of_origin**."
      ]
    },
    {
      "cell_type": "code",
      "execution_count": null,
      "id": "498710c9-3b25-4f96-b846-1014ad12d931",
      "metadata": {
        "id": "498710c9-3b25-4f96-b846-1014ad12d931"
      },
      "outputs": [],
      "source": [
        "case_group = \"diagnoses.0.tissue_or_organ_of_origin\"\n",
        "\n",
        "# Create a DataFrame to store the count of unique case_submitter_id values for each tissue_or_organ_of_origin\n",
        "origin_count = pd.DataFrame(cleanClinical.groupby(case_group)['PatientId'].nunique()).reset_index()\n",
        "origin_count.columns = [case_group, 'Count of Unique PatientId']\n",
        "\n",
        "# Sort the DataFrame by the count of case_submitter_id in descending order\n",
        "origin_count = origin_count.sort_values('Count of Unique PatientId', ascending=False)\n",
        "\n",
        "# Reset the index of the DataFrame\n",
        "origin_count = origin_count.reset_index(drop=True)\n",
        "\n",
        "# Display the sorted DataFrame and save a spreadsheet\n",
        "display(origin_count)\n",
        "origin_count.to_csv('tcga_' + case_group + '_counts.csv')"
      ]
    },
    {
      "cell_type": "markdown",
      "id": "c41b88b7-8d9a-4e7f-a299-58ded886ff6b",
      "metadata": {
        "id": "c41b88b7-8d9a-4e7f-a299-58ded886ff6b"
      },
      "source": [
        "Now let's create a filtered dataframe/CSV that contains only the clinical data for the tissue type you're interested in.  You can leave the tissue_type variable below set to lung, or change it to match other rows in the previous dataframe. Note that the code is setup to allow partial matches, so typing \"lung\" will catch all 5 records that contain \"lung\" somewhere within the **tissue_or_organ_of_origin** column."
      ]
    },
    {
      "cell_type": "code",
      "execution_count": null,
      "id": "2c3f0d1f-1ed6-4067-b2dd-15b06b246ba6",
      "metadata": {
        "id": "2c3f0d1f-1ed6-4067-b2dd-15b06b246ba6"
      },
      "outputs": [],
      "source": [
        "# feel free to change this to other tissue types\n",
        "tissue_type = \"lung\"\n",
        "\n",
        "# Create dataframe for selected tissue type\n",
        "tissue_type_df = cleanClinical[cleanClinical['diagnoses.0.tissue_or_organ_of_origin'].str.contains(tissue_type, case=False, na=False)]\n",
        "\n",
        "display(tissue_type_df)"
      ]
    },
    {
      "cell_type": "markdown",
      "id": "6ac42fb5-35b9-44f7-afb3-77d8501a3508",
      "metadata": {
        "id": "6ac42fb5-35b9-44f7-afb3-77d8501a3508"
      },
      "source": [
        "Now let's get a full inventory of the scans associated with those cancer types on TCIA."
      ]
    },
    {
      "cell_type": "code",
      "execution_count": null,
      "id": "6bdb943e-3615-43d3-a51b-ba933e79f069",
      "metadata": {
        "id": "6bdb943e-3615-43d3-a51b-ba933e79f069"
      },
      "outputs": [],
      "source": [
        "# Extract unique project_id values from tissue_type_df into a list\n",
        "project_ids = tissue_type_df['project.project_id'].unique().tolist()\n",
        "\n",
        "# Create an empty list to store the DataFrames for each project_id\n",
        "dataframes = []\n",
        "\n",
        "# Iterate through the project_ids list and download the scan metadata for each project/collection\n",
        "for project_id in project_ids:\n",
        "    # Call the nbia.getSeries(project_id, format=\"df\") function and store the resulting DataFrame\n",
        "    series_df = nbia.getSeries(project_id, format=\"df\")\n",
        "    # Append the DataFrame to the dataframes list\n",
        "    dataframes.append(series_df)\n",
        "\n",
        "# Concatenate the DataFrames in the dataframes list into a single DataFrame called tcia_inventory\n",
        "tcia_scan_inventory = pd.concat(dataframes)"
      ]
    },
    {
      "cell_type": "markdown",
      "id": "1c0d146e-52f2-4868-ac7c-775bbb766d4c",
      "metadata": {
        "id": "1c0d146e-52f2-4868-ac7c-775bbb766d4c"
      },
      "source": [
        "Let's take a look at what kind of imaging data are available for these subjects using a reporting function from tcia_utils to get a high-level understanding of the data.\n",
        "\n",
        "**Note:** The report below will include relevant image collections as well as 3rd party \"analysis result\" datasets related to those images (if any exist).  You can learn more about the various datasets by visiting their CollectionURI."
      ]
    },
    {
      "cell_type": "code",
      "execution_count": null,
      "id": "cfab03b0-63a3-4793-a339-39977ada3efa",
      "metadata": {
        "id": "cfab03b0-63a3-4793-a339-39977ada3efa"
      },
      "outputs": [],
      "source": [
        "nbia.reportDoiSummary(tcia_scan_inventory, input_type = \"df\")"
      ]
    },
    {
      "cell_type": "markdown",
      "id": "24773fb1-f7a7-476f-a28c-25aab02b77f9",
      "metadata": {
        "id": "24773fb1-f7a7-476f-a28c-25aab02b77f9"
      },
      "source": [
        "If you stuck with the lung example, you should see that there are both TCGA-LUAD (lung adenocarcinoma) subjects and TCGA-LUSC (lung squamous cell) subjects that contain a mix of PET, CT and nuclear medicine modalities.\n",
        "\n",
        "Now let's take a quick look at the scan-level report, where you can see a variety of additional info about each scan:"
      ]
    },
    {
      "cell_type": "code",
      "execution_count": null,
      "id": "ea837b0b-b61c-45ee-bf4e-163c6aa12ffd",
      "metadata": {
        "id": "ea837b0b-b61c-45ee-bf4e-163c6aa12ffd"
      },
      "outputs": [],
      "source": [
        "# Display the tcia_inventory DataFrame\n",
        "display(tcia_scan_inventory)\n"
      ]
    },
    {
      "cell_type": "markdown",
      "id": "95cce1fc-a709-4c01-864f-1cea7e37503a",
      "metadata": {
        "id": "95cce1fc-a709-4c01-864f-1cea7e37503a"
      },
      "source": [
        "Let's say that you're only interested in a particular modality of imaging to analyze.  Feel free to leave it as \"CT\" if you're following along with our lung example, or try customizing the modality value to anything else you saw in the previous report.  "
      ]
    },
    {
      "cell_type": "code",
      "execution_count": null,
      "id": "523b29c8-8035-42a8-820e-8681cb41162e",
      "metadata": {
        "id": "523b29c8-8035-42a8-820e-8681cb41162e"
      },
      "outputs": [],
      "source": [
        "modality = \"CT\"\n",
        "\n",
        "# Create dataframe for selected modality\n",
        "download_df = tcia_scan_inventory[tcia_scan_inventory['Modality'].str.contains(modality, case=False, na=False)]\n",
        "\n",
        "display(download_df)"
      ]
    },
    {
      "cell_type": "markdown",
      "id": "2d74da9b-fe2a-456d-832d-9af431272664",
      "metadata": {
        "id": "2d74da9b-fe2a-456d-832d-9af431272664"
      },
      "source": [
        "Finally, let's download the scans that match the modality of interest for your analysis.\n",
        "\n",
        "**Note:** The download step includes a parameter called **number** which lets you set the number of scans to download.  This is useful for quick tests/demos.  If you'd like to download the full cohort of images you should remove this parameter."
      ]
    },
    {
      "cell_type": "code",
      "execution_count": null,
      "id": "6f35b041-7037-4119-91d6-0e3b81152584",
      "metadata": {
        "id": "6f35b041-7037-4119-91d6-0e3b81152584"
      },
      "outputs": [],
      "source": [
        "# extract the SeriesInstanceUID column as a list variable\n",
        "series_uids = download_df['SeriesInstanceUID'].tolist()\n",
        "\n",
        "nbia.downloadSeries(series_uids, number = 1, input_type = \"list\")"
      ]
    },
    {
      "cell_type": "markdown",
      "source": [
        "# Acknowledgements\n",
        "TCIA is funded by the [Cancer Imaging Program (CIP)](https://imaging.cancer.gov/), a part of the United States [National Cancer Institute (NCI)](https://www.cancer.gov/).  It is managed by the [Frederick National Laboratory for Cancer Research (FNLCR)](https://frederick.cancer.gov/) and hosted by the [University of Arkansas for Medical Sciences (UAMS)](https://www.uams.edu/)\n",
        "\n",
        "This notebook was created by [Justin Kirby](https://www.linkedin.com/in/justinkirby82/). If you leverage this notebook or any TCIA datasets in your work, please be sure to comply with the [TCIA Data Usage Policy](https://wiki.cancerimagingarchive.net/x/c4hF). In particular, make sure to cite the DOI(s) for the specific TCIA datasets you used in addition to the following paper!\n",
        "\n",
        "## TCIA Citation\n",
        "\n",
        "Clark, K., Vendt, B., Smith, K., Freymann, J., Kirby, J., Koppel, P., Moore, S., Phillips, S., Maffitt, D., Pringle, M., Tarbox, L., & Prior, F. (2013). The Cancer Imaging Archive (TCIA): Maintaining and Operating a Public Information Repository. Journal of Digital Imaging, 26(6), 1045–1057. https://doi.org/10.1007/s10278-013-9622-7"
      ],
      "metadata": {
        "id": "Jpb1remD9xX1"
      },
      "id": "Jpb1remD9xX1"
    }
  ],
  "metadata": {
    "kernelspec": {
      "display_name": "Python 3 (ipykernel)",
      "language": "python",
      "name": "python3"
    },
    "language_info": {
      "codemirror_mode": {
        "name": "ipython",
        "version": 3
      },
      "file_extension": ".py",
      "mimetype": "text/x-python",
      "name": "python",
      "nbconvert_exporter": "python",
      "pygments_lexer": "ipython3",
      "version": "3.9.13"
    },
    "colab": {
      "provenance": []
    }
  },
  "nbformat": 4,
  "nbformat_minor": 5
}