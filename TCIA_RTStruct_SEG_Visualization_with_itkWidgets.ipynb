{
  "cells": [
    {
      "cell_type": "markdown",
      "source": [
        "You can download and run this notebook locally, or you can run it for free in a cloud environment using Colab or Sagemaker Studio Lab:\n",
        "\n",
        "[![Open In Colab](https://colab.research.google.com/assets/colab-badge.svg)](https://colab.research.google.com/github/kirbyju/TCIA_Notebooks/blob/main/TCIA_RTStruct_SEG_Visualization_with_itkWidgets.ipynb)\n",
        "\n",
        "[![Open In SageMaker Studio Lab](https://studiolab.sagemaker.aws/studiolab.svg)](https://studiolab.sagemaker.aws/import/github.com/kirbyju/TCIA_Notebooks/blob/main/TCIA_RTStruct_SEG_Visualization_with_itkWidgets.ipynb)"
      ],
      "metadata": {
        "id": "Z1F4QAQkZSve"
      }
    },
    {
      "cell_type": "markdown",
      "metadata": {
        "id": "KmXfYFZtja2F"
      },
      "source": [
        "# Summary\n",
        "Access to large, high-quality data is essential for researchers to understand disease and precision medicine pathways, especially in cancer. However, HIPAA constraints make sharing medical images outside an individual institution a complex process. [The Cancer Imaging Archive (TCIA)](https://www.cancerimagingarchive.net/) is a public service funded by the National Cancer Institute that addresses this challenge by providing hosting and de-identification services to take major burdens of data sharing off researchers.\n",
        "\n",
        "## DICOM Image Objects\n",
        "Most of TCIA data is available as DICOM objects. A wide variety of toolkits are able to read DICOM images, but fewer are able to convert them into volumetric representations, and still fewer correctly maintain the metadata necessary to interpret how that volume maps into physical space (i.e., its origin, axis orientation, and the physical distance between its voxels).  Such information is critical to subsequent analysis of those images.\n",
        "\n",
        "[ITK](https://github.com/InsightSoftwareConsortium/ITK) is used to read DICOM images.\n",
        "\n",
        "## DICOM SEG and RTStruct Objects\n",
        "There are often DICOM SEG (labelmap) and DICOM RTStruct (contour) files that provide annotations for the DICOM images.  Reading and mapping those objects onto medical images, and converting contours to labelmaps and preserving the origin, spacing, and direction information in those labelmaps can also be challenging.\n",
        "\n",
        "Herein, we explore a common AI research workflow.  We demonstrate basic methods for downloading DICOM objects from TCIA, converting them into images and labelmaps, and visualizing them within this Jupyter Notebook using itkWidgets.   \n",
        "\n",
        "[RT-Utils](https://github.com/qurit/rt-utils) (built on top of pydicom) is used to convert RTStruct contours to labelmaps.\n",
        "\n",
        "[pydicom-seg](https://github.com/razorx89/pydicom-seg) (also built on top of pydicom) is used to convert SEG labelmaps to images.\n",
        "\n",
        "## Visualization\n",
        "While Jupyter systems (JupyterLab, Jupyter Notebooks, Google Colab, AWS SageMaker, etc.) are outstanding tools for interactive programming and algorithm sharing, the ability to visualize data within them has traditionally be limited to plots and sparse 2D slices - which are insufficient when dealing with 3D clinical data. This limitation is particularly challenging when using cloud-based jupyter systems such as Google Colab and AWS SageMaker. 3D interactive visualization of data when using those cloud systems traditionally requires downloading that data to your local machine and then running a separate visualization application. itkWidgets addresses those visualization challenges by providing interacitve 3D (and 2D) visualizations within the cells of your Jupyter scripts.\n",
        "\n",
        "[itkWidgets](https://github.com/InsightSoftwareConsortium/itkwidgets) is used to visualize images, point sets, and 3D geometry in Jupyter systems (Jupyter Notebooks, JupyterLab, AWS SageMaker, and Google Colab). Despite its name, itkWidgets does not require the use of ITK. It can directly visualize numpy arrays, torch tensors, DASK arrays, VTK polydata, and a multitude of other Python data structures."
      ]
    },
    {
      "cell_type": "markdown",
      "metadata": {
        "id": "GRNgpdI3hdkf"
      },
      "source": [
        "# Outline\n",
        "\n",
        "1. Setup\n",
        "2. TCIA Basics\n",
        "2. itkWidgets Basics\n",
        "3. Use Cases\n",
        "    1. Load and visualize DICOM Images and RTStruct objects from TCIA\n",
        "    2. Load and visualize DICOM Images and SEG objects from TCIA"
      ]
    },
    {
      "cell_type": "markdown",
      "metadata": {
        "id": "q8EUgWtnhdkf"
      },
      "source": [
        "# 1. Setup\n",
        "\n",
        "These are the initial steps for running notebooks within various Jupyter environments."
      ]
    },
    {
      "cell_type": "code",
      "execution_count": null,
      "metadata": {
        "id": "m1N3PETXhdkg"
      },
      "outputs": [],
      "source": [
        "import os\n",
        "import sys\n",
        "\n",
        "# Upgrade pip, just in case...\n",
        "!{sys.executable} -m pip install --upgrade -q pip"
      ]
    },
    {
      "cell_type": "code",
      "execution_count": null,
      "metadata": {
        "id": "aEYeJ97Whdkh"
      },
      "outputs": [],
      "source": [
        "# If running on SageMaker or Studio Lab, install essential packages and extensions.\n",
        "if \"studio-lab-user\" in os.getcwd():\n",
        "    print(\"Upgrading dependencies\")\n",
        "    !conda install --yes -q --prefix {sys.prefix} -c conda-forge opencv nodejs"
      ]
    },
    {
      "cell_type": "markdown",
      "metadata": {
        "id": "mxoRyF3_ZRol"
      },
      "source": [
        "# On many systems you must manually install the imjoy-jupyter-extension!!\n",
        "\n",
        "If you do not see a blue 'ImJoy' icon on the menu bar in this notebook:\n",
        "   1) Google CoLab: The following does not apply to Google CoLab - it will not show an ImJoy and all\n",
        "      should work without modification.\n",
        "   2) Enable Extensions:  Many Jupyter Lab systems disable jupyter extensions by default,\n",
        "      and they must be enabled for this notebook to work. Typically this is accomplished using the\n",
        "      Jupyter interface to select the extension manager (left-hand side, icon that looks like a piece\n",
        "      of a puzzle) and select the Enable button if it appears.\n",
        "   2) Install imjoy extension: In the extension manager, search for 'imjoy' and install\n",
        "      the 'imjoy-jupyter-extension'. The installation can take several minutes. It may also prompt\n",
        "      you to rebuild, save, and reload your jupyter environment as part of this process.  In the end,\n",
        "      you should see a blue 'ImJoy' icon on the left side of the menu bar in this notebook."
      ]
    },
    {
      "cell_type": "markdown",
      "metadata": {
        "id": "w6vIuyxbhdkh"
      },
      "source": [
        "# 2. TCIA Basics\n",
        "\n",
        "[Browsing Collections](https://www.cancerimagingarchive.net/collections) and viewing [Analysis Results](https://www.cancerimagingarchive.net/tcia-analysis-results/) of datasets on TCIA are the easiest ways to become familiar with what is available.  These pages will help you quickly identify datasets of interest, find valuable supporting data that are not available via our APIs (e.g. clinical spreadsheets, non-DICOM segmentation data), and answer the most common questions you might have about the datasets.  \n",
        "\n",
        "If you are new to accessing TCIA via notebooks, you can find additional tutorials on querying and downloading data at https://github.com/kirbyju/TCIA_Notebooks.  We will also leverage [tcia_utils](https://github.com/kirbyju/tcia_utils) in this notebook to make it easier to grab our data to visualize."
      ]
    },
    {
      "cell_type": "code",
      "execution_count": null,
      "metadata": {
        "id": "Y3Nlj-nY517Z"
      },
      "outputs": [],
      "source": [
        "# Install tcia_utils\n",
        "!{sys.executable} -m pip install --upgrade -q tcia_utils"
      ]
    },
    {
      "cell_type": "code",
      "execution_count": null,
      "metadata": {
        "id": "zP4VRfgg-QXU"
      },
      "outputs": [],
      "source": [
        "from tcia_utils import nbia\n",
        "import pandas as pd\n",
        "import requests"
      ]
    },
    {
      "cell_type": "code",
      "execution_count": null,
      "metadata": {
        "id": "3ZhBVocK14y2"
      },
      "outputs": [],
      "source": [
        "# Download a \"Shared Cart\" that has been previously created via the NBIA webset (https://nbia.cancerimagingarchive.net).\n",
        "cartName = \"nbia-49121659384603347\"\n",
        "\n",
        "# retrieve cart metadata\n",
        "cart_data = nbia.getSharedCart(cartName)\n",
        "\n",
        "# download the series_uids list and return dataframe of metadata\n",
        "df = nbia.downloadSeries(cart_data, format = \"df\")\n",
        "\n",
        "# display dataframe\n",
        "display(df)"
      ]
    },
    {
      "cell_type": "code",
      "execution_count": null,
      "metadata": {
        "id": "Wiw_f_rXZRon"
      },
      "outputs": [],
      "source": [
        "# For this demo...\n",
        "\n",
        "# Install itk for DICOM I/O and for reading DICOM into an itkImage\n",
        "#   that manages all DICOM field values, include acquistion details\n",
        "#   such as voxel image, image orientation, and image directions,\n",
        "#   which are critical to image processing and display\n",
        "!{sys.executable} -m pip install --upgrade -q \"itk==5.4.0\"\n",
        "\n",
        "# Install rt-utils for reading DICOM RT-Struct objects.\n",
        "!{sys.executable} -m pip install --upgrade -q rt-utils\n",
        "\n",
        "# Install pydicom and pydicom-seg for reading DICOM SEG objects.\n",
        "!{sys.executable} -m pip install --upgrade -q \"pydicom<3.0\"\n",
        "!{sys.executable} -m pip install --upgrade -q git+https://github.com/kirbyju/pydicom-seg.git@master"
      ]
    },
    {
      "cell_type": "code",
      "execution_count": null,
      "metadata": {
        "id": "eREa7Et2hdki"
      },
      "outputs": [],
      "source": [
        "import glob\n",
        "\n",
        "# Include ITK for DICOM reading.\n",
        "import itk\n",
        "\n",
        "# Include numpy which is used by pydicom-seg and rt_utils.\n",
        "import numpy as np\n",
        "\n",
        "# Pydicom-Seg is a layer on top of pydicom that handles DICOM SEG objects.\n",
        "import pydicom\n",
        "import pydicom_seg\n",
        "\n",
        "# RT-Utils is a layer on top of pydicom that provides a convenient way to read RT-STRUCT DICOM contours and\n",
        "#   generate labelmaps from them.  Labelmaps are needed for most deep learning segmentation tasks.\n",
        "from rt_utils import RTStructBuilder"
      ]
    },
    {
      "cell_type": "markdown",
      "metadata": {
        "id": "GU-nHGRthdki"
      },
      "source": [
        "# 3. itkWidget Basics\n",
        "\n",
        "[itkWidgets documentation](https://itkwidgets.readthedocs.io/en/latest/?badge=latest) provides a summary and illustrations of itkWidgets for a wide variety of scientific data visualization use cases.  Here we focus on its application to data on TCIA."
      ]
    },
    {
      "cell_type": "code",
      "execution_count": null,
      "metadata": {
        "id": "ikJLcL3Ehdki"
      },
      "outputs": [],
      "source": [
        "# This is the installation required for itkWidgets.\n",
        "!{sys.executable} -m pip install --upgrade -q \"itkwidgets[all]==1.0a53\" imjoy_elfinder"
      ]
    },
    {
      "cell_type": "code",
      "execution_count": null,
      "metadata": {
        "id": "oasRz2QKhdkj"
      },
      "outputs": [],
      "source": [
        "# This is the most common import command for itkWidgets.\n",
        "#   The view() function opens an interactive viewer for 2D and 3D\n",
        "#   data in a variety of formats.\n",
        "from itkwidgets import view"
      ]
    },
    {
      "cell_type": "markdown",
      "metadata": {
        "id": "nMPSKNz0hdkj"
      },
      "source": [
        "# 4. Use cases\n",
        "In this section, we'll download a few datasets from TCIA to show off the functionality of ITK and itkWidgets by demonstrating the following use cases:\n",
        "\n",
        "3.A. Load and visualize DICOM Image and RTStruct objects from TCIA.<br>\n",
        "3.B. Load and visualize DICOM Image and SEG objects from TCIA.<br>"
      ]
    },
    {
      "cell_type": "markdown",
      "metadata": {
        "id": "RxVvQsNl1vCo",
        "tags": []
      },
      "source": [
        "## 4.A. Load and visualize DICOM Image and RTStruct objects from TCIA"
      ]
    },
    {
      "cell_type": "markdown",
      "metadata": {
        "id": "I2_wyAA_hdkj"
      },
      "source": [
        "### 4.A.1. Identify CT and RTSTRUCT data from the Pediatric-CT-SEG study"
      ]
    },
    {
      "cell_type": "code",
      "execution_count": null,
      "metadata": {
        "id": "Hq3hHXZW2Ns4"
      },
      "outputs": [],
      "source": [
        "dicom_data_dir = \"tciaDownload\"\n",
        "\n",
        "# The Pediatric-CT-SEG study provides DICOM images and DICOM RTSTRUCT data.\n",
        "ped_study_df = df.query( 'Collection==\"Pediatric-CT-SEG\"')\n",
        "\n",
        "# The series_uid defines their directory where the CT data was stored on disk.\n",
        "ped_ct_series_uid = ped_study_df.at[df.Modality.eq('CT').idxmax(), 'Series UID']\n",
        "ped_ct_dir = os.path.join(dicom_data_dir, ped_ct_series_uid)\n",
        "\n",
        "# The series_uid defines where the RTSTRUCT was stored on disk.  It is stored in a single file.\n",
        "ped_rtstruct_series_uid = ped_study_df.at[df.Modality.eq('RTSTRUCT').idxmax(), 'Series UID']\n",
        "ped_rtstruct_dir = os.path.join(dicom_data_dir, ped_rtstruct_series_uid)\n",
        "ped_rtstruct_file = seg_file = glob.glob(os.path.join(ped_rtstruct_dir, \"*.dcm\"))[0]"
      ]
    },
    {
      "cell_type": "markdown",
      "metadata": {
        "id": "uf-7IrCNhdkj"
      },
      "source": [
        "### 4.A.2. Read and visualize CT and RTSTRUCT data from the Pediatric-CT-SEG study"
      ]
    },
    {
      "cell_type": "code",
      "execution_count": null,
      "metadata": {
        "id": "fqjyR-p13z7r"
      },
      "outputs": [],
      "source": [
        "# Read the DICOM CT series' objects and reconstruct them into a 3D ITK image.\n",
        "#   The itk.F option is added to store the image in memory using floating-point precision pixels (useful if you will filter the image or use it with MONAI)\n",
        "#   For more info on imread, see https://itkpythonpackage.readthedocs.io/en/master/Quick_start_guide.html.\n",
        "ped_ct_image_large = itk.imread(ped_ct_dir, itk.F)\n",
        "\n",
        "# We use RT-Utils to read in the list of contours (ROIs) available in the RT-STRUCT file.  This also requires passing-in the path to the original\n",
        "#   DICOM series (image) so that labelmaps images can be generated from the RT-STRUCT contours.\n",
        "ped_rtstruct = RTStructBuilder.create_from(dicom_series_path=ped_ct_dir, rt_struct_path=ped_rtstruct_file)\n",
        "\n",
        "# RT-Utils has many useful functions, including the ability to list the names of the ROIs available in the RT-STRUCT file.\n",
        "print(ped_rtstruct.get_roi_names())"
      ]
    },
    {
      "cell_type": "code",
      "execution_count": null,
      "metadata": {
        "id": "6iPqk92thdkk"
      },
      "outputs": [],
      "source": [
        "# Read in the bones contour as a numpy array.  We must also convert it to float (for possible future filtering, MONAI, etc.), and realign the axis to\n",
        "#   correspond with how images are stored by ITK.  This realignment typically isn't needed, but rt-utils requires it.\n",
        "#   Note: The copy() call is required to force the transpose to actually reorder the data in memory versus maintain an abstraction.\n",
        "ped_bones_array = ped_rtstruct.get_roi_mask_by_name(\"Bones\").astype(np.float32).transpose(2,0,1).copy()\n",
        "# As an np array, the rtstruct labelmap is missing critical information about pixel spacing, image origin, image orientation, etc.\n",
        "#    Here we create an itk image from the numpy array, and we copy the critical information from itk image created from the\n",
        "#    original DICOM CT data.\n",
        "ped_bones_labelmap_large = itk.GetImageFromArray(ped_bones_array)\n",
        "ped_bones_labelmap_large.CopyInformation(ped_ct_image_large)"
      ]
    },
    {
      "cell_type": "code",
      "execution_count": null,
      "metadata": {
        "id": "JihbWQaBZRop"
      },
      "outputs": [],
      "source": [
        "# This data is huge, so to save time during demos, we subsample it in x and y dims:\n",
        "new_spacing = list(ped_ct_image_large.GetSpacing())\n",
        "new_spacing[:2] = [x*4 for x in new_spacing[:2]]\n",
        "new_size = list(ped_ct_image_large.GetLargestPossibleRegion().GetSize())\n",
        "new_size[:2] = [x//4 for x in new_size[:2]]\n",
        "ped_ct_image = itk.resample_image_filter(Input=ped_ct_image_large,\n",
        "                                         output_spacing=new_spacing,\n",
        "                                         output_origin=ped_ct_image_large.GetOrigin(),\n",
        "                                         output_direction=ped_ct_image_large.GetDirection(),\n",
        "                                         size=new_size)\n",
        "labelmap_interpolator = itk.NearestNeighborInterpolateImageFunction.New(InputImage=ped_bones_labelmap_large)\n",
        "ped_bones_labelmap = itk.resample_image_filter(Input=ped_bones_labelmap_large,\n",
        "                                         Interpolator=labelmap_interpolator,\n",
        "                                         ReferenceImage=ped_ct_image,\n",
        "                                         UseReferenceImage=True)\n",
        "print(f\"New spacing = {new_spacing}\")\n",
        "print(f\"New size = {new_size}\")"
      ]
    },
    {
      "cell_type": "code",
      "execution_count": null,
      "metadata": {
        "id": "DSicmPcUhdkk"
      },
      "outputs": [],
      "source": [
        "# This generates a default 3D visualization, with the bone labelmap coloring the bones \"red.\"\n",
        "\n",
        "viewerA = view(image=ped_ct_image, label_image=ped_bones_labelmap)\n",
        "\n",
        "# Please be patient..this is a huge dataset and it loads slowly when run on Colab or Sagemaker.   Those systems limit data transfer rates\n",
        "#   and packet sizes, so itkWidgets must create an multi-scale image and transfer it via incremental streaming.\n",
        "# Visualization should be fast when run using local resources."
      ]
    },
    {
      "cell_type": "code",
      "execution_count": null,
      "metadata": {
        "id": "OwVi0omHhdkk"
      },
      "outputs": [],
      "source": [
        "# Here we demonstrate how to programmatically set some of the common volume rendering options.\n",
        "viewerA.set_background_color([0.1,0.1,0.1])\n",
        "viewerA.set_image_color_map(\"CT-Muscle\")\n",
        "viewerA.set_image_gradient_opacity(0.45)\n",
        "viewerA.set_image_gradient_opacity_scale(0.35)\n",
        "viewerA.set_image_color_range([-1000,1000])"
      ]
    },
    {
      "cell_type": "code",
      "execution_count": null,
      "metadata": {
        "id": "m7VVNNyihdkl"
      },
      "outputs": [],
      "source": [
        "# In case you haven't seen it, here we open the user interface panel so that you can manually manipulate the visualization.\n",
        "viewerA.set_ui_collapsed(False)\n",
        "\n",
        "# For example, clicking on the colored cubes in the second row in this panel will switch to a 2D view with the labelmap overlaid."
      ]
    },
    {
      "cell_type": "markdown",
      "metadata": {
        "id": "hSvGdTAShdkl",
        "tags": []
      },
      "source": [
        "## 4.B. Load and visualizing DICOM image and SEG objects from TCIA"
      ]
    },
    {
      "cell_type": "markdown",
      "metadata": {
        "id": "kewWwiKRhdkl"
      },
      "source": [
        "### 4.B.1. Identify MR and SEG data from the PROSTATEx study"
      ]
    },
    {
      "cell_type": "code",
      "execution_count": null,
      "metadata": {
        "id": "nD9gw942hdkl"
      },
      "outputs": [],
      "source": [
        "# The PROSTATEx study provides DICOM images and DICOM SEG data.\n",
        "pro_study_df = df.query( 'Collection==\"PROSTATEx\"' )\n",
        "\n",
        "# The series_uid defines their directory where the MR data was stored on disk.\n",
        "pro_mr_series_uid = pro_study_df.at[df.Modality.eq('MR').idxmax(), 'Series UID']\n",
        "pro_mr_dir = os.path.join(dicom_data_dir, pro_mr_series_uid)\n",
        "\n",
        "# The series_uid defines where the RTSTRUCT was stored on disk.  It is stored in a single file.\n",
        "pro_seg_series_uid = pro_study_df.at[df.Modality.eq('SEG').idxmax(), 'Series UID']\n",
        "pro_seg_dir = os.path.join(dicom_data_dir, pro_seg_series_uid)\n",
        "pro_seg_file = glob.glob(os.path.join(pro_seg_dir, \"*.dcm\"))[0]"
      ]
    },
    {
      "cell_type": "markdown",
      "metadata": {
        "id": "59a7Heymhdkm"
      },
      "source": [
        "### 4.B.2. Read MR and SEG data and restore SEG data's physical info"
      ]
    },
    {
      "cell_type": "code",
      "execution_count": null,
      "metadata": {
        "id": "XhwXooTrhdkm"
      },
      "outputs": [],
      "source": [
        "# Read the DICOM MR series' objects and reconstruct them into a 3D ITK image.\n",
        "#   The itk.F option is added to store the image in memory using floating-point precision pixels (useful if you will filter the image or use it with MONAI)\n",
        "#   For more info on imread, see https://itkpythonpackage.readthedocs.io/en/master/Quick_start_guide.html\n",
        "pro_mr_image = itk.imread(pro_mr_dir, itk.F)\n",
        "\n",
        "# Read the DICOM SEG object using pydicom and pydicom_seg.\n",
        "pro_seg_dicom = pydicom.dcmread(pro_seg_file)\n",
        "seg_reader = pydicom_seg.MultiClassReader()\n",
        "pro_seg_obj = seg_reader.read(pro_seg_dicom)\n",
        "\n",
        "# Convert the DICOM SEG object into an itk image, with correct voxel origin, spacing, and directions in physical space.\n",
        "pro_seg_image = itk.GetImageFromArray(pro_seg_obj.data.astype(np.float32))\n",
        "pro_seg_image.SetOrigin(pro_seg_obj.origin)\n",
        "pro_seg_image.SetSpacing(pro_seg_obj.spacing)\n",
        "pro_seg_image.SetDirection(pro_seg_obj.direction)"
      ]
    },
    {
      "cell_type": "markdown",
      "metadata": {
        "id": "0NvzSRB2hdkm"
      },
      "source": [
        "### 4.B.3. Visualize MRI with SEG data overlaid, as slice data"
      ]
    },
    {
      "cell_type": "code",
      "execution_count": null,
      "metadata": {
        "id": "Xt1eob6qhdkm"
      },
      "outputs": [],
      "source": [
        "viewerB = view(image=pro_mr_image,\n",
        "               label_image=pro_seg_image)"
      ]
    },
    {
      "cell_type": "code",
      "execution_count": null,
      "metadata": {
        "id": "y9YVgL16ZRor"
      },
      "outputs": [],
      "source": [
        "viewerB.set_image_color_map(\"Grayscale\")\n",
        "viewerB.set_image_color_range([0,400])\n",
        "viewerB.set_view_mode(\"ZPlane\")\n",
        "viewerB.set_z_slice(53)\n",
        "viewerB.set_ui_collapsed(False)"
      ]
    },
    {
      "cell_type": "markdown",
      "metadata": {
        "id": "DYXsNGcY93B8"
      },
      "source": [
        "# Acknowledgements\n",
        "\n",
        "TCIA is funded by the [Cancer Imaging Program (CIP)](https://imaging.cancer.gov/), a part of the United States [National Cancer Institute (NCI)](https://www.cancer.gov/), and is managed by the [Frederick National Laboratory for Cancer Research (FNLCR)](https://frederick.cancer.gov/).\n",
        "\n",
        "If you leverage this notebook or any TCIA datasets in your work, please be sure to comply with the [TCIA Data Usage Policy](https://wiki.cancerimagingarchive.net/x/c4hF). In particular, make sure to cite the DOI(s) for the specific TCIA datasets you used in addition to TCIA citation provided below!\n",
        "\n",
        "This notebook was created by [Stephen Aylward (Kitware)](https://www.kitware.com/stephen-aylward/), [Justin Kirby (Frederick National Laboratory for Cancer Research)](https://www.linkedin.com/in/justinkirby82/), [Brianna Major (Kitware)](https://www.kitware.com/brianna-major/), and [Matt McCormick (Kitware)](https://www.kitware.com/matt-mccormick/).   The creation of this notebook was funded, in part, by NIBIB and NIGMS R01EB021396, NIBIB R01EB014955, NCI R01CA220681, and NINDS R42NS086295.\n",
        "\n",
        "If you have any questions, suggestions, or issues with itkWidgets, please post them on the [itkwidget issue tracker](https://github.com/InsightSoftwareConsortium/itkwidgets/issues) or feel free to email us at kitware@kitware.com.\n",
        "\n",
        "## Data Citation\n",
        "Some of the data used in this notebook was part of the Pediatric-CT-SEG collection:\n",
        "\n",
        "Jordan, P., Adamson, P. M., Bhattbhatt, V., Beriwal, S., Shen, S., Radermecker, O., Bose, S., Strain, L. S., Offe, M., Fraley, D., Principi, S., Ye, D. H., Wang, A. S., Van Heteren, J., Vo, N.-J., & Schmidt, T. G. (2021). Pediatric Chest/Abdomen/Pelvic CT Exams with Expert Organ Contours (Pediatric-CT-SEG) (Version 2) [Data set]. The Cancer Imaging Archive. https://doi.org/10.7937/TCIA.X0H0-1706\n",
        "\n",
        "Some of the data used in this notebook was part of the ProstateX challenge:\n",
        "\n",
        "Geert Litjens, Oscar Debats, Jelle Barentsz, Nico Karssemeijer, and Henkjan Huisman. \"ProstateX Challenge data\", The Cancer Imaging Archive (2017). DOI: 10.7937/K9TCIA.2017.MURS5CL\n",
        "\n",
        "## Publication Citation\n",
        "Some of the data used in this notebook was part of the Pediatric-CT-SEG collection:\n",
        "\n",
        "Jordan, P., Adamson, P. M., Bhattbhatt, V., Beriwal, S., Shen, S., Radermecker, O., Bose, S., Strain, L. S., Offe, M., Fraley, D., Principi, S., Ye, D. H., Wang, A. S., Heteren, J., Vo, N., & Schmidt, T. G. (2022). Pediatric chest‐abdomen‐pelvis and abdomen‐pelvis CT images with expert organ contours. In Medical Physics (Vol. 49, Issue 5, pp. 3523–3528). Wiley. https://doi.org/10.1002/mp.15485\n",
        "\n",
        "Some of the data used in this notebook was part of the ProstateX challenge:\n",
        "\n",
        "Litjens G, Debats O, Barentsz J, Karssemeijer N, Huisman H. \"Computer-aided detection of prostate cancer in MRI\", IEEE Transactions on Medical Imaging 2014;33:1083-1092. DOI: 10.1109/TMI.2014.2303821\n",
        "\n",
        "## TCIA Citation\n",
        "\n",
        "Clark, K., Vendt, B., Smith, K., Freymann, J., Kirby, J., Koppel, P., Moore, S., Phillips, S., Maffitt, D., Pringle, M., Tarbox, L., & Prior, F. (2013). The Cancer Imaging Archive (TCIA): Maintaining and Operating a Public Information Repository. Journal of Digital Imaging, 26(6), 1045–1057. https://doi.org/10.1007/s10278-013-9622-7"
      ]
    }
  ],
  "metadata": {
    "colab": {
      "provenance": []
    },
    "kernelspec": {
      "display_name": "Python 3 (ipykernel)",
      "language": "python",
      "name": "python3"
    },
    "language_info": {
      "codemirror_mode": {
        "name": "ipython",
        "version": 3
      },
      "file_extension": ".py",
      "mimetype": "text/x-python",
      "name": "python",
      "nbconvert_exporter": "python",
      "pygments_lexer": "ipython3",
      "version": "3.8.10"
    }
  },
  "nbformat": 4,
  "nbformat_minor": 0
}