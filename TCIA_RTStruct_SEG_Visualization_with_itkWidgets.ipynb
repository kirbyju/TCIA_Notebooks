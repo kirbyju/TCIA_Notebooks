{
  "cells": [
    {
      "cell_type": "markdown",
      "source": [
        "You can download and run this notebook locally, or you can run it for free in a cloud environment using Colab or Sagemaker Studio Lab:\n",
        "\n",
        "[![Open In Colab](https://colab.research.google.com/assets/colab-badge.svg)](https://colab.research.google.com/github/kirbyju/TCIA_Notebooks/blob/main/TCIA_RTStruct_SEG_Visualization_with_itkWidgets.ipynb)\n",
        "\n",
        "[![Open In SageMaker Studio Lab](https://studiolab.sagemaker.aws/studiolab.svg)](https://studiolab.sagemaker.aws/import/github.com/kirbyju/TCIA_Notebooks/blob/main/TCIA_RTStruct_SEG_Visualization_with_itkWidgets.ipynb)"
      ],
      "metadata": {
        "id": "Z1F4QAQkZSve"
      }
    },
    {
      "cell_type": "markdown",
      "metadata": {
        "id": "KmXfYFZtja2F"
      },
      "source": [
        "# Summary\n",
        "Access to large, high-quality data is essential for researchers to understand disease and precision medicine pathways, especially in cancer. However, HIPAA constraints make sharing medical images outside an individual institution a complex process. [The Cancer Imaging Archive (TCIA)](https://www.cancerimagingarchive.net/) is a public service funded by the National Cancer Institute that addresses this challenge by providing hosting and de-identification services to take major burdens of data sharing off researchers.\n",
        "\n",
        "## DICOM Image Objects\n",
        "Most of TCIA data is available as DICOM objects. A wide variety of toolkits are able to read DICOM images, but fewer are able to convert them into volumetric representations, and still fewer correctly maintain the metadata necessary to interpret how that volume maps into physical space (i.e., its origin, axis orientation, and the physical distance between its voxels).  Such information is critical to subsequent analysis of those images.\n",
        "\n",
        "[ITK](https://github.com/InsightSoftwareConsortium/ITK) is used to read DICOM images.\n",
        "\n",
        "## DICOM SEG and RTStruct Objects\n",
        "There are often DICOM SEG (labelmap) and DICOM RTStruct (contour) files that provide annotations for the DICOM images.  Reading and mapping those objects onto medical images, and converting contours to labelmaps and preserving the origin, spacing, and direction information in those labelmaps can also be challenging.\n",
        "\n",
        "Herein, we explore a common AI research workflow.  We demonstrate basic methods for downloading DICOM objects from TCIA, converting them into images and labelmaps, and visualizing them within this Jupyter Notebook using itkWidgets.   \n",
        "\n",
        "[RT-Utils](https://github.com/qurit/rt-utils) (built on top of pydicom) is used to convert RTStruct contours to labelmaps.\n",
        "\n",
        "[pydicom-seg](https://github.com/razorx89/pydicom-seg) (also built on top of pydicom) is used to convert SEG labelmaps to images.\n",
        "\n",
        "## Visualization\n",
        "While Jupyter systems (JupyterLab, Jupyter Notebooks, Google Colab, AWS SageMaker, etc.) are outstanding tools for interactive programming and algorithm sharing, the ability to visualize data within them has traditionally be limited to plots and sparse 2D slices - which are insufficient when dealing with 3D clinical data. This limitation is particularly challenging when using cloud-based jupyter systems such as Google Colab and AWS SageMaker. 3D interactive visualization of data when using those cloud systems traditionally requires downloading that data to your local machine and then running a separate visualization application. itkWidgets addresses those visualization challenges by providing interacitve 3D (and 2D) visualizations within the cells of your Jupyter scripts.\n",
        "\n",
        "[itkWidgets](https://github.com/InsightSoftwareConsortium/itkwidgets) is used to visualize images, point sets, and 3D geometry in Jupyter systems (Jupyter Notebooks, JupyterLab, AWS SageMaker, and Google Colab). Despite its name, itkWidgets does not require the use of ITK. It can directly visualize numpy arrays, torch tensors, DASK arrays, VTK polydata, and a multitude of other Python data structures."
      ]
    },
    {
      "cell_type": "markdown",
      "metadata": {
        "id": "GRNgpdI3hdkf"
      },
      "source": [
        "# Outline\n",
        "\n",
        "1. Setup\n",
        "2. TCIA Basics\n",
        "2. itkWidgets Basics\n",
        "3. Use Cases\n",
        "    1. Load and visualize DICOM Images and RTStruct objects from TCIA\n",
        "    2. Load and visualize DICOM Images and SEG objects from TCIA"
      ]
    },
    {
      "cell_type": "markdown",
      "metadata": {
        "id": "q8EUgWtnhdkf"
      },
      "source": [
        "# 1. Setup\n",
        "\n",
        "These are the initial steps for running notebooks within various Jupyter environments."
      ]
    },
    {
      "cell_type": "code",
      "execution_count": 1,
      "metadata": {
        "id": "m1N3PETXhdkg",
        "outputId": "92ba82d2-96aa-4181-c5ed-c1f65810feea",
        "colab": {
          "base_uri": "https://localhost:8080/"
        }
      },
      "outputs": [
        {
          "output_type": "stream",
          "name": "stdout",
          "text": [
            "\u001b[?25l     \u001b[90m━━━━━━━━━━━━━━━━━━━━━━━━━━━━━━━━━━━━━━━━\u001b[0m \u001b[32m0.0/2.1 MB\u001b[0m \u001b[31m?\u001b[0m eta \u001b[36m-:--:--\u001b[0m\r\u001b[2K     \u001b[91m━━━━━━━━━━━━━━━\u001b[0m\u001b[90m╺\u001b[0m\u001b[90m━━━━━━━━━━━━━━━━━━━━━━━━\u001b[0m \u001b[32m0.8/2.1 MB\u001b[0m \u001b[31m23.9 MB/s\u001b[0m eta \u001b[36m0:00:01\u001b[0m\r\u001b[2K     \u001b[91m━━━━━━━━━━━━━━━━━━━━━━━━━━━━━━━━━━━━━━━\u001b[0m\u001b[91m╸\u001b[0m \u001b[32m2.0/2.1 MB\u001b[0m \u001b[31m40.1 MB/s\u001b[0m eta \u001b[36m0:00:01\u001b[0m\r\u001b[2K     \u001b[90m━━━━━━━━━━━━━━━━━━━━━━━━━━━━━━━━━━━━━━━━\u001b[0m \u001b[32m2.1/2.1 MB\u001b[0m \u001b[31m24.7 MB/s\u001b[0m eta \u001b[36m0:00:00\u001b[0m\n",
            "\u001b[?25h"
          ]
        }
      ],
      "source": [
        "import os\n",
        "import sys\n",
        "\n",
        "# Upgrade pip, just in case...\n",
        "!{sys.executable} -m pip install --upgrade -q pip"
      ]
    },
    {
      "cell_type": "code",
      "execution_count": null,
      "metadata": {
        "id": "aEYeJ97Whdkh"
      },
      "outputs": [],
      "source": [
        "# If running on SageMaker or Studio Lab, install essential packages and extensions.\n",
        "if \"studio-lab-user\" in os.getcwd():\n",
        "    print(\"Upgrading dependencies\")\n",
        "    !conda install --yes -q --prefix {sys.prefix} -c conda-forge opencv nodejs"
      ]
    },
    {
      "cell_type": "markdown",
      "metadata": {
        "id": "mxoRyF3_ZRol"
      },
      "source": [
        "# On many systems you must manually install the imjoy-jupyter-extension!!\n",
        "\n",
        "If you do not see a blue 'ImJoy' icon on the menu bar in this notebook:\n",
        "   1) Google CoLab: The following does not apply to Google CoLab - it will not show an ImJoy and all\n",
        "      should work without modification.\n",
        "   2) Enable Extensions:  Many Jupyter Lab systems disable jupyter extensions by default,\n",
        "      and they must be enabled for this notebook to work. Typically this is accomplished using the \n",
        "      Jupyter interface to select the extension manager (left-hand side, icon that looks like a piece\n",
        "      of a puzzle) and select the Enable button if it appears.\n",
        "   2) Install imjoy extension: In the extension manager, search for 'imjoy' and install\n",
        "      the 'imjoy-jupyter-extension'. The installation can take several minutes. It may also prompt\n",
        "      you to rebuild, save, and reload your jupyter environment as part of this process.  In the end,\n",
        "      you should see a blue 'ImJoy' icon on the left side of the menu bar in this notebook."
      ]
    },
    {
      "cell_type": "markdown",
      "metadata": {
        "id": "w6vIuyxbhdkh"
      },
      "source": [
        "# 2. TCIA Basics\n",
        "\n",
        "[Browsing Collections](https://www.cancerimagingarchive.net/collections) and viewing [Analysis Results](https://www.cancerimagingarchive.net/tcia-analysis-results/) of datasets on TCIA are the easiest ways to become familiar with what is available.  These pages will help you quickly identify datasets of interest, find valuable supporting data that are not available via our APIs (e.g. clinical spreadsheets, non-DICOM segmentation data), and answer the most common questions you might have about the datasets.  \n",
        "\n",
        "If you are new to accessing TCIA via notebooks, you can find additional tutorials on querying and downloading data at https://github.com/kirbyju/TCIA_Notebooks.  We will also leverage [tcia_utils](https://github.com/kirbyju/tcia_utils) in this notebook to make it easier to grab our data to visualize."
      ]
    },
    {
      "cell_type": "code",
      "execution_count": null,
      "metadata": {
        "id": "Y3Nlj-nY517Z"
      },
      "outputs": [],
      "source": [
        "# Install tcia_utils\n",
        "!{sys.executable} -m pip install --upgrade -q tcia_utils"
      ]
    },
    {
      "cell_type": "code",
      "execution_count": 3,
      "metadata": {
        "id": "zP4VRfgg-QXU"
      },
      "outputs": [],
      "source": [
        "from tcia_utils import nbia\n",
        "import pandas as pd\n",
        "import requests"
      ]
    },
    {
      "cell_type": "code",
      "execution_count": null,
      "metadata": {
        "id": "3ZhBVocK14y2"
      },
      "outputs": [],
      "source": [
        "# Download a \"Shared Cart\" that has been previously created via the NBIA webset (https://nbia.cancerimagingarchive.net).\n",
        "cartName = \"nbia-49121659384603347\"\n",
        "\n",
        "# retrieve cart metadata\n",
        "cart_data = nbia.getSharedCart(cartName)\n",
        "\n",
        "# download the series_uids list and return dataframe of metadata\n",
        "df = nbia.downloadSeries(cart_data, format = \"df\")\n",
        "\n",
        "# display dataframe\n",
        "display(df)"
      ]
    },
    {
      "cell_type": "code",
      "execution_count": null,
      "metadata": {
        "id": "Wiw_f_rXZRon"
      },
      "outputs": [],
      "source": [
        "# For this demo...\n",
        "\n",
        "# Install itk for DICOM I/O and for reading DICOM into an itkImage \n",
        "#   that manages all DICOM field values, include acquistion details \n",
        "#   such as voxel image, image orientation, and image directions,\n",
        "#   which are critical to image processing and display\n",
        "!{sys.executable} -m pip install --upgrade --pre -q \"itk==5.3.0\"\n",
        "\n",
        "# Install rt-utils for reading DICOM RT-Struct objects.\n",
        "!{sys.executable} -m pip install --upgrade -q rt-utils\n",
        "\n",
        "# Install pydicom-seg for reading DICOM SEG objects.\n",
        "!{sys.executable} -m pip install --upgrade -q pydicom-seg"
      ]
    },
    {
      "cell_type": "code",
      "execution_count": 6,
      "metadata": {
        "id": "eREa7Et2hdki"
      },
      "outputs": [],
      "source": [
        "import glob\n",
        "\n",
        "# Include ITK for DICOM reading.\n",
        "import itk\n",
        "\n",
        "# Include numpy which is used by pydicom-seg and rt_utils.\n",
        "import numpy as np\n",
        "\n",
        "# Pydicom-Seg is a layer on top of pydicom that handles DICOM SEG objects.\n",
        "import pydicom\n",
        "import pydicom_seg\n",
        "\n",
        "# RT-Utils is a layer on top of pydicom that provides a convenient way to read RT-STRUCT DICOM contours and\n",
        "#   generate labelmaps from them.  Labelmaps are needed for most deep learning segmentation tasks.\n",
        "from rt_utils import RTStructBuilder"
      ]
    },
    {
      "cell_type": "markdown",
      "metadata": {
        "id": "GU-nHGRthdki"
      },
      "source": [
        "# 3. itkWidget Basics\n",
        "\n",
        "[itkWidgets documentation](https://itkwidgets.readthedocs.io/en/latest/?badge=latest) provides a summary and illustrations of itkWidgets for a wide variety of scientific data visualization use cases.  Here we focus on its application to data on TCIA."
      ]
    },
    {
      "cell_type": "code",
      "execution_count": null,
      "metadata": {
        "id": "ikJLcL3Ehdki"
      },
      "outputs": [],
      "source": [
        "# This is the installation required for itkWidgets.\n",
        "!{sys.executable} -m pip install --upgrade --pre -q \"itkwidgets[all]==1.0a49\" imjoy_elfinder"
      ]
    },
    {
      "cell_type": "code",
      "execution_count": 8,
      "metadata": {
        "id": "oasRz2QKhdkj"
      },
      "outputs": [],
      "source": [
        "# This is the most common import command for itkWidgets.\n",
        "#   The view() function opens an interactive viewer for 2D and 3D\n",
        "#   data in a variety of formats.\n",
        "from itkwidgets import view"
      ]
    },
    {
      "cell_type": "markdown",
      "metadata": {
        "id": "nMPSKNz0hdkj"
      },
      "source": [
        "# 4. Use cases\n",
        "In this section, we'll download a few datasets from TCIA to show off the functionality of ITK and itkWidgets by demonstrating the following use cases:\n",
        "\n",
        "3.A. Load and visualize DICOM Image and RTStruct objects from TCIA.<br>\n",
        "3.B. Load and visualize DICOM Image and SEG objects from TCIA.<br>"
      ]
    },
    {
      "cell_type": "markdown",
      "metadata": {
        "id": "RxVvQsNl1vCo",
        "tags": []
      },
      "source": [
        "## 4.A. Load and visualize DICOM Image and RTStruct objects from TCIA"
      ]
    },
    {
      "cell_type": "markdown",
      "metadata": {
        "id": "I2_wyAA_hdkj"
      },
      "source": [
        "### 4.A.1. Identify CT and RTSTRUCT data from the Pediatric-CT-SEG study"
      ]
    },
    {
      "cell_type": "code",
      "execution_count": 9,
      "metadata": {
        "id": "Hq3hHXZW2Ns4"
      },
      "outputs": [],
      "source": [
        "dicom_data_dir = \"tciaDownload\"\n",
        "\n",
        "# The Pediatric-CT-SEG study provides DICOM images and DICOM RTSTRUCT data.\n",
        "ped_study_df = df.query( 'Collection==\"Pediatric-CT-SEG\"')\n",
        "\n",
        "# The series_uid defines their directory where the CT data was stored on disk.\n",
        "ped_ct_series_uid = ped_study_df.at[df.Modality.eq('CT').idxmax(), 'Series UID']\n",
        "ped_ct_dir = os.path.join(dicom_data_dir, ped_ct_series_uid)\n",
        "\n",
        "# The series_uid defines where the RTSTRUCT was stored on disk.  It is stored in a single file.\n",
        "ped_rtstruct_series_uid = ped_study_df.at[df.Modality.eq('RTSTRUCT').idxmax(), 'Series UID']\n",
        "ped_rtstruct_dir = os.path.join(dicom_data_dir, ped_rtstruct_series_uid)\n",
        "ped_rtstruct_file = seg_file = glob.glob(os.path.join(ped_rtstruct_dir, \"*.dcm\"))[0]"
      ]
    },
    {
      "cell_type": "markdown",
      "metadata": {
        "id": "uf-7IrCNhdkj"
      },
      "source": [
        "### 4.A.2. Read and visualize CT and RTSTRUCT data from the Pediatric-CT-SEG study"
      ]
    },
    {
      "cell_type": "code",
      "execution_count": null,
      "metadata": {
        "id": "fqjyR-p13z7r"
      },
      "outputs": [],
      "source": [
        "# Read the DICOM CT series' objects and reconstruct them into a 3D ITK image.\n",
        "#   The itk.F option is added to store the image in memory using floating-point precision pixels (useful if you will filter the image or use it with MONAI)\n",
        "#   For more info on imread, see https://itkpythonpackage.readthedocs.io/en/master/Quick_start_guide.html. \n",
        "ped_ct_image_large = itk.imread(ped_ct_dir, itk.F)\n",
        "\n",
        "# We use RT-Utils to read in the list of contours (ROIs) available in the RT-STRUCT file.  This also requires passing-in the path to the original\n",
        "#   DICOM series (image) so that labelmaps images can be generated from the RT-STRUCT contours.\n",
        "ped_rtstruct = RTStructBuilder.create_from(dicom_series_path=ped_ct_dir, rt_struct_path=ped_rtstruct_file)\n",
        "\n",
        "# RT-Utils has many useful functions, including the ability to list the names of the ROIs available in the RT-STRUCT file.\n",
        "print(ped_rtstruct.get_roi_names())"
      ]
    },
    {
      "cell_type": "code",
      "execution_count": 11,
      "metadata": {
        "id": "6iPqk92thdkk"
      },
      "outputs": [],
      "source": [
        "# Read in the bones contour as a numpy array.  We must also convert it to float (for possible future filtering, MONAI, etc.), and realign the axis to \n",
        "#   correspond with how images are stored by ITK.  This realignment typically isn't needed, but rt-utils requires it.\n",
        "#   Note: The copy() call is required to force the transpose to actually reorder the data in memory versus maintain an abstraction.\n",
        "ped_bones_array = ped_rtstruct.get_roi_mask_by_name(\"Bones\").astype(np.float32).transpose(2,0,1).copy()\n",
        "# As an np array, the rtstruct labelmap is missing critical information about pixel spacing, image origin, image orientation, etc.\n",
        "#    Here we create an itk image from the numpy array, and we copy the critical information from itk image created from the \n",
        "#    original DICOM CT data.\n",
        "ped_bones_labelmap_large = itk.GetImageFromArray(ped_bones_array)\n",
        "ped_bones_labelmap_large.CopyInformation(ped_ct_image_large)"
      ]
    },
    {
      "cell_type": "code",
      "execution_count": null,
      "metadata": {
        "id": "JihbWQaBZRop"
      },
      "outputs": [],
      "source": [
        "# This data is huge, so to save time during demos, we subsample it in x and y dims:\n",
        "new_spacing = list(ped_ct_image_large.GetSpacing())\n",
        "new_spacing[:2] = [x*4 for x in new_spacing[:2]]\n",
        "new_size = list(ped_ct_image_large.GetLargestPossibleRegion().GetSize())\n",
        "new_size[:2] = [x//4 for x in new_size[:2]]\n",
        "ped_ct_image = itk.resample_image_filter(Input=ped_ct_image_large,\n",
        "                                         output_spacing=new_spacing, \n",
        "                                         output_origin=ped_ct_image_large.GetOrigin(), \n",
        "                                         output_direction=ped_ct_image_large.GetDirection(),\n",
        "                                         size=new_size)\n",
        "labelmap_interpolator = itk.NearestNeighborInterpolateImageFunction.New(InputImage=ped_bones_labelmap_large)\n",
        "ped_bones_labelmap = itk.resample_image_filter(Input=ped_bones_labelmap_large,\n",
        "                                         Interpolator=labelmap_interpolator,\n",
        "                                         ReferenceImage=ped_ct_image,\n",
        "                                         UseReferenceImage=True)\n",
        "print(f\"New spacing = {new_spacing}\")\n",
        "print(f\"New size = {new_size}\")"
      ]
    },
    {
      "cell_type": "code",
      "execution_count": 13,
      "metadata": {
        "id": "DSicmPcUhdkk",
        "outputId": "a559a5bb-3efa-404d-9de3-0622b7c19f88",
        "colab": {
          "base_uri": "https://localhost:8080/",
          "height": 547
        }
      },
      "outputs": [
        {
          "output_type": "display_data",
          "data": {
            "text/plain": [
              "<IPython.core.display.HTML object>"
            ],
            "text/html": [
              "\n",
              "                <img id=\"screenshot_plugin_window_undefinedmr2aq1673987724797\" src=data:image/png;base64,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>\n",
              "                <script type=\"text/javascript\">\n",
              "                    var image = document.getElementById(\"screenshot_plugin_window_undefinedmr2aq1673987724797\");\n",
              "                    image.src = \"data:image/png;base64,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\";\n",
              "                    var viewer = document.getElementById(\"plugin_window_undefinedmr2aq1673987724797\");\n",
              "                    // Hide the static image if the Viewer is visible\n",
              "                    image.style.display = viewer ? \"none\" : \"block\";\n",
              "                </script>\n",
              "            "
            ]
          },
          "metadata": {}
        },
        {
          "output_type": "display_data",
          "data": {
            "text/plain": [
              "<IPython.core.display.HTML object>"
            ],
            "text/html": [
              "<script src=\"https://lib.imjoy.io/imjoy-loader.js\"></script>\n",
              "<script>\n",
              "  function randId() {\n",
              "    return Math.random()\n",
              "      .toString(36)\n",
              "      .substr(2, 10);\n",
              "  }\n",
              "\n",
              "  class MessageEmitter {\n",
              "    constructor(debug) {\n",
              "      this._event_handlers = {};\n",
              "      this._once_handlers = {};\n",
              "      this._debug = debug;\n",
              "    }\n",
              "    emit() {\n",
              "      throw new Error(\"emit is not implemented\");\n",
              "    }\n",
              "    on(event, handler) {\n",
              "      if (!this._event_handlers[event]) {\n",
              "        this._event_handlers[event] = [];\n",
              "      }\n",
              "      this._event_handlers[event].push(handler);\n",
              "    }\n",
              "    once(event, handler) {\n",
              "      handler.___event_run_once = true;\n",
              "      this.on(event, handler);\n",
              "    }\n",
              "    off(event, handler) {\n",
              "      if (!event && !handler) {\n",
              "        // remove all events handlers\n",
              "        this._event_handlers = {};\n",
              "      } else if (event && !handler) {\n",
              "        // remove all hanlders for the event\n",
              "        if (this._event_handlers[event]) this._event_handlers[event] = [];\n",
              "      } else {\n",
              "        // remove a specific handler\n",
              "        if (this._event_handlers[event]) {\n",
              "          const idx = this._event_handlers[event].indexOf(handler);\n",
              "          if (idx >= 0) {\n",
              "            this._event_handlers[event].splice(idx, 1);\n",
              "          }\n",
              "        }\n",
              "      }\n",
              "    }\n",
              "    _fire(event, data) {\n",
              "      if (this._event_handlers[event]) {\n",
              "        var i = this._event_handlers[event].length;\n",
              "        while (i--) {\n",
              "          const handler = this._event_handlers[event][i];\n",
              "          try {\n",
              "            handler(data);\n",
              "          } catch (e) {\n",
              "            console.error(e);\n",
              "          } finally {\n",
              "            if (handler.___event_run_once) {\n",
              "              this._event_handlers[event].splice(i, 1);\n",
              "            }\n",
              "          }\n",
              "        }\n",
              "      } else {\n",
              "        if (this._debug) {\n",
              "          console.warn(\"unhandled event\", event, data);\n",
              "        }\n",
              "      }\n",
              "    }\n",
              "  }\n",
              "\n",
              "  class Connection extends MessageEmitter {\n",
              "    constructor(config) {\n",
              "      super(config && config.debug);\n",
              "      google.colab.kernel.comms.open('imjoy_rpc', {}).then((comm) => {\n",
              "        setTimeout(async () => {\n",
              "          for await (const msg of comm.messages) {\n",
              "            const data = msg.data;\n",
              "            const buffer_paths = data.__buffer_paths__ || [];\n",
              "            delete data.__buffer_paths__;\n",
              "            put_buffers(data, buffer_paths, msg.buffers || []);\n",
              "            if (data.type === \"log\" || data.type === \"info\") {\n",
              "              console.log(data.message);\n",
              "            } else if (data.type === \"error\") {\n",
              "              console.error(data.message);\n",
              "            } else {\n",
              "              if (data.peer_id) {\n",
              "                this._peer_id = data.peer_id\n",
              "              }\n",
              "              this._fire(data.type, data);\n",
              "            }\n",
              "          }\n",
              "        }, 0)\n",
              "        this.comm = comm;\n",
              "      }).catch((e) => {\n",
              "        console.error(\"failed to connect to imjoy plugin\")\n",
              "        document.getElementById('loading').style.display = 'none';\n",
              "        document.getElementById('app').parentNode.innerHTML =\n",
              "          \"Execute this cell again to see the ImJoy plugin\";\n",
              "      })\n",
              "    }\n",
              "    connect() {}\n",
              "    disconnect() {}\n",
              "    emit(data) {\n",
              "      data.peer_id = this._peer_id;\n",
              "      const split = remove_buffers(data);\n",
              "      split.state.__buffer_paths__ = split.buffer_paths;\n",
              "      this.comm.send(split.state, {\n",
              "        buffers: split.buffers\n",
              "      });\n",
              "    }\n",
              "  };\n",
              "\n",
              "  function isSerializable(object) {\n",
              "    return typeof object === \"object\" && object && object.toJSON;\n",
              "  }\n",
              "\n",
              "  function isObject(value) {\n",
              "    return value && typeof value === \"object\" && value.constructor === Object;\n",
              "  }\n",
              "\n",
              "  // pub_buffers and remove_buffers are taken from\n",
              "  // https://github.com/jupyter-widgets/ipywidgets/blob/master/packages/base/src/utils.ts\n",
              "  // Author: IPython Development Team\n",
              "  // License: BSD\n",
              "  function put_buffers(state, buffer_paths, buffers) {\n",
              "    buffers = buffers.map(b => {\n",
              "      if (b instanceof DataView) {\n",
              "        return b.buffer;\n",
              "      } else {\n",
              "        return b instanceof ArrayBuffer ? b : b.buffer;\n",
              "      }\n",
              "    });\n",
              "    for (let i = 0; i < buffer_paths.length; i++) {\n",
              "      const buffer_path = buffer_paths[i];\n",
              "      // say we want to set state[x][y][z] = buffers[i]\n",
              "      let obj = state;\n",
              "      // we first get obj = state[x][y]\n",
              "      for (let j = 0; j < buffer_path.length - 1; j++) {\n",
              "        obj = obj[buffer_path[j]];\n",
              "      }\n",
              "      // and then set: obj[z] = buffers[i]\n",
              "      obj[buffer_path[buffer_path.length - 1]] = buffers[i];\n",
              "    }\n",
              "  }\n",
              "\n",
              "  /**\n",
              "   * The inverse of put_buffers, return an objects with the new state where all buffers(ArrayBuffer)\n",
              "   * are removed. If a buffer is a member of an object, that object is cloned, and the key removed. If a buffer\n",
              "   * is an element of an array, that array is cloned, and the element is set to null.\n",
              "   * See put_buffers for the meaning of buffer_paths\n",
              "   * Returns an object with the new state (.state) an array with paths to the buffers (.buffer_paths),\n",
              "   * and the buffers associated to those paths (.buffers).\n",
              "   */\n",
              "  function remove_buffers(state) {\n",
              "    const buffers = [];\n",
              "    const buffer_paths = [];\n",
              "    // if we need to remove an object from a list, we need to clone that list, otherwise we may modify\n",
              "    // the internal state of the widget model\n",
              "    // however, we do not want to clone everything, for performance\n",
              "    function remove(obj, path) {\n",
              "      if (isSerializable(obj)) {\n",
              "        // We need to get the JSON form of the object before recursing.\n",
              "        // See https://developer.mozilla.org/en-US/docs/Web/JavaScript/Reference/Global_Objects/JSON/stringify#toJSON()_behavior\n",
              "        obj = obj.toJSON();\n",
              "      }\n",
              "      if (Array.isArray(obj)) {\n",
              "        let is_cloned = false;\n",
              "        for (let i = 0; i < obj.length; i++) {\n",
              "          const value = obj[i];\n",
              "          if (value) {\n",
              "            if (value instanceof ArrayBuffer || ArrayBuffer.isView(value)) {\n",
              "              if (!is_cloned) {\n",
              "                obj = obj.slice();\n",
              "                is_cloned = true;\n",
              "              }\n",
              "              buffers.push(ArrayBuffer.isView(value) ? value.buffer : value);\n",
              "              buffer_paths.push(path.concat([i]));\n",
              "              // easier to just keep the array, but clear the entry, otherwise we have to think\n",
              "              // about array length, much easier this way\n",
              "              obj[i] = null;\n",
              "            } else {\n",
              "              const new_value = remove(value, path.concat([i]));\n",
              "              // only assigned when the value changes, we may serialize objects that don't support assignment\n",
              "              if (new_value !== value) {\n",
              "                if (!is_cloned) {\n",
              "                  obj = obj.slice();\n",
              "                  is_cloned = true;\n",
              "                }\n",
              "                obj[i] = new_value;\n",
              "              }\n",
              "            }\n",
              "          }\n",
              "        }\n",
              "      } else if (isObject(obj)) {\n",
              "        for (const key in obj) {\n",
              "          let is_cloned = false;\n",
              "          if (Object.prototype.hasOwnProperty.call(obj, key)) {\n",
              "            const value = obj[key];\n",
              "            if (value) {\n",
              "              if (value instanceof ArrayBuffer || ArrayBuffer.isView(value)) {\n",
              "                if (!is_cloned) {\n",
              "                  obj = {\n",
              "                    ...obj\n",
              "                  };\n",
              "                  is_cloned = true;\n",
              "                }\n",
              "                buffers.push(ArrayBuffer.isView(value) ? value.buffer : value);\n",
              "                buffer_paths.push(path.concat([key]));\n",
              "                delete obj[key]; // for objects/dicts we just delete them\n",
              "              } else {\n",
              "                const new_value = remove(value, path.concat([key]));\n",
              "                // only assigned when the value changes, we may serialize objects that don't support assignment\n",
              "                if (new_value !== value) {\n",
              "                  if (!is_cloned) {\n",
              "                    obj = {\n",
              "                      ...obj\n",
              "                    };\n",
              "                    is_cloned = true;\n",
              "                  }\n",
              "                  obj[key] = new_value;\n",
              "                }\n",
              "              }\n",
              "            }\n",
              "          }\n",
              "        }\n",
              "      }\n",
              "      return obj;\n",
              "    }\n",
              "    const new_state = remove(state, []);\n",
              "    return {\n",
              "      state: new_state,\n",
              "      buffers: buffers,\n",
              "      buffer_paths: buffer_paths\n",
              "    };\n",
              "  }\n",
              "\n",
              "  document.getElementById('init-loader').style.display = 'block';\n",
              "  loadImJoyBasicApp({\n",
              "    version: '0.13.74',\n",
              "    process_url_query: true,\n",
              "    show_window_title: false,\n",
              "    show_progress_bar: true,\n",
              "    show_loader: true,\n",
              "    show_empty_window: true,\n",
              "    menu_style: {\n",
              "      position: \"absolute\",\n",
              "      right: 0,\n",
              "      top: \"4px\"\n",
              "    },\n",
              "    window_style: {\n",
              "      width: '100%',\n",
              "      height: '100%'\n",
              "    },\n",
              "    main_container: null,\n",
              "    menu_container: \"menu-container\",\n",
              "    window_manager_container: \"window-container\",\n",
              "    imjoy_api: {\n",
              "      alert(plugin, msg) {\n",
              "        window.imjoyApp.showSnackbar(msg);\n",
              "      },\n",
              "    } // override some imjoy API functions here\n",
              "  }).then(async app => {\n",
              "    window.imjoyApp = app;\n",
              "    makeResizable();\n",
              "    // get the api object from the root plugin\n",
              "    const api = app.imjoy.api;\n",
              "    const connection = new Connection()\n",
              "    const plugin = await app.imjoy.pm\n",
              "      .connectPlugin(connection)\n",
              "\n",
              "    const container = document.getElementById('window-container');\n",
              "    container.style.height = '500px';\n",
              "\n",
              "    try {\n",
              "      if (plugin.api.setup) {\n",
              "        await plugin.api.setup()\n",
              "\n",
              "      }\n",
              "    } catch (e) {\n",
              "      console.error(e)\n",
              "    } finally {\n",
              "      document.getElementById('init-loader').style.display = 'none';\n",
              "    }\n",
              "    if (plugin.api.run) {\n",
              "      await plugin.api.run({\n",
              "        config: {},\n",
              "        data: {}\n",
              "      });\n",
              "    }\n",
              "\n",
              "    app.addMenuItem({\n",
              "      label: \"▶️ Run\",\n",
              "      async callback() {\n",
              "        await plugin.api.run({\n",
              "          config: {},\n",
              "          data: {}\n",
              "        });\n",
              "      }\n",
              "    })\n",
              "\n",
              "  });\n",
              "\n",
              "  function makeResizable() {\n",
              "    const element = document.getElementById('window-container');\n",
              "    //create box in bottom-left\n",
              "    const resizer = document.createElement('div');\n",
              "    resizer.style.width = '40px';\n",
              "    resizer.style.height = '3px';\n",
              "    resizer.style.background = '#80808061';\n",
              "    resizer.style.position = 'fixed';\n",
              "    resizer.style.left = \"50%\";\n",
              "    resizer.style.cursor = 'row-resize';\n",
              "    //Append Child to Element\n",
              "    element.parentNode.appendChild(resizer);\n",
              "    //box function onmousemove\n",
              "    resizer.addEventListener('mousedown', initResize, false);\n",
              "\n",
              "    //Window funtion mousemove & mouseup\n",
              "    function initResize(e) {\n",
              "      window.addEventListener('mousemove', Resize, false);\n",
              "      window.addEventListener('mouseup', stopResize, false);\n",
              "    }\n",
              "    //resize the element\n",
              "    function Resize(e) {\n",
              "      // element.style.width = (e.clientX - element.offsetLeft) + 'px';\n",
              "      element.style.height = (e.clientY - element.offsetTop) + 'px';\n",
              "    }\n",
              "    //on mouseup remove windows functions mousemove & mouseup\n",
              "    function stopResize(e) {\n",
              "      window.removeEventListener('mousemove', Resize, false);\n",
              "      window.removeEventListener('mouseup', stopResize, false);\n",
              "    }\n",
              "  }\n",
              "</script>\n",
              "<div class=\"loader\" id=\"loading\"></div>\n",
              "<div id=\"window-container\" style=\"z-index: 100;\"></div>\n",
              "<div id=\"menu-container\" style=\"z-index: 200\"></div>\n",
              "<div class=\"imjoy-loader\" style=\"display:none;\" id=\"init-loader\"></div>"
            ]
          },
          "metadata": {}
        },
        {
          "output_type": "display_data",
          "data": {
            "text/plain": [
              "<IPython.core.display.HTML object>"
            ],
            "text/html": [
              "<div id=\"d277cc57-c93e-47b7-97c3-6c47df40a642\"></div>"
            ]
          },
          "metadata": {}
        }
      ],
      "source": [
        "# This generates a default 3D visualization, with the bone labelmap coloring the bones \"red.\" \n",
        "\n",
        "viewerA = view(image=ped_ct_image, label_image=ped_bones_labelmap)\n",
        "\n",
        "# Please be patient..this is a huge dataset and it loads slowly when run on Colab or Sagemaker.   Those systems limit data transfer rates \n",
        "#   and packet sizes, so itkWidgets must create an multi-scale image and transfer it via incremental streaming.\n",
        "# Visualization should be fast when run using local resources."
      ]
    },
    {
      "cell_type": "code",
      "execution_count": 15,
      "metadata": {
        "id": "OwVi0omHhdkk"
      },
      "outputs": [],
      "source": [
        "# Here we demonstrate how to programmatically set some of the common volume rendering options.\n",
        "viewerA.set_background_color([0.1,0.1,0.1])\n",
        "viewerA.set_image_color_map(\"CT-Muscle\")\n",
        "viewerA.set_image_gradient_opacity(0.45)\n",
        "viewerA.set_image_gradient_opacity_scale(0.35)\n",
        "viewerA.set_image_color_range([-1000,1000])"
      ]
    },
    {
      "cell_type": "code",
      "execution_count": null,
      "metadata": {
        "id": "m7VVNNyihdkl"
      },
      "outputs": [],
      "source": [
        "# In case you haven't seen it, here we open the user interface panel so that you can manually manipulate the visualization.\n",
        "viewerA.set_ui_collapsed(False)\n",
        "\n",
        "# For example, clicking on the colored cubes in the second row in this panel will switch to a 2D view with the labelmap overlaid."
      ]
    },
    {
      "cell_type": "markdown",
      "metadata": {
        "id": "hSvGdTAShdkl",
        "tags": []
      },
      "source": [
        "## 4.B. Load and visualizing DICOM image and SEG objects from TCIA"
      ]
    },
    {
      "cell_type": "markdown",
      "metadata": {
        "id": "kewWwiKRhdkl"
      },
      "source": [
        "### 4.B.1. Identify MR and SEG data from the PROSTATEx study"
      ]
    },
    {
      "cell_type": "code",
      "execution_count": 16,
      "metadata": {
        "id": "nD9gw942hdkl"
      },
      "outputs": [],
      "source": [
        "# The PROSTATEx study provides DICOM images and DICOM SEG data.\n",
        "pro_study_df = df.query( 'Collection==\"PROSTATEx\"' )\n",
        "\n",
        "# The series_uid defines their directory where the MR data was stored on disk.\n",
        "pro_mr_series_uid = pro_study_df.at[df.Modality.eq('MR').idxmax(), 'Series UID']\n",
        "pro_mr_dir = os.path.join(dicom_data_dir, pro_mr_series_uid)\n",
        "\n",
        "# The series_uid defines where the RTSTRUCT was stored on disk.  It is stored in a single file.\n",
        "pro_seg_series_uid = pro_study_df.at[df.Modality.eq('SEG').idxmax(), 'Series UID']\n",
        "pro_seg_dir = os.path.join(dicom_data_dir, pro_seg_series_uid) \n",
        "pro_seg_file = glob.glob(os.path.join(pro_seg_dir, \"*.dcm\"))[0]"
      ]
    },
    {
      "cell_type": "markdown",
      "metadata": {
        "id": "59a7Heymhdkm"
      },
      "source": [
        "### 4.B.2. Read MR and SEG data and restore SEG data's physical info"
      ]
    },
    {
      "cell_type": "code",
      "execution_count": null,
      "metadata": {
        "id": "XhwXooTrhdkm"
      },
      "outputs": [],
      "source": [
        "# Read the DICOM MR series' objects and reconstruct them into a 3D ITK image.\n",
        "#   The itk.F option is added to store the image in memory using floating-point precision pixels (useful if you will filter the image or use it with MONAI)\n",
        "#   For more info on imread, see https://itkpythonpackage.readthedocs.io/en/master/Quick_start_guide.html \n",
        "pro_mr_image = itk.imread(pro_mr_dir, itk.F)\n",
        "\n",
        "# Read the DICOM SEG object using pydicom and pydicom_seg.\n",
        "pro_seg_dicom = pydicom.dcmread(pro_seg_file)\n",
        "seg_reader = pydicom_seg.MultiClassReader()\n",
        "pro_seg_obj = seg_reader.read(pro_seg_dicom)\n",
        "\n",
        "# Convert the DICOM SEG object into an itk image, with correct voxel origin, spacing, and directions in physical space.\n",
        "pro_seg_image = itk.GetImageFromArray(pro_seg_obj.data.astype(np.float32))\n",
        "pro_seg_image.SetOrigin(pro_seg_obj.origin)\n",
        "pro_seg_image.SetSpacing(pro_seg_obj.spacing)\n",
        "pro_seg_image.SetDirection(pro_seg_obj.direction)"
      ]
    },
    {
      "cell_type": "markdown",
      "metadata": {
        "id": "0NvzSRB2hdkm"
      },
      "source": [
        "### 4.B.3. Visualize MRI with SEG data overlaid, as slice data"
      ]
    },
    {
      "cell_type": "code",
      "execution_count": 18,
      "metadata": {
        "id": "Xt1eob6qhdkm",
        "outputId": "f72213ff-631f-4b60-fed4-59aa7359f1c7",
        "colab": {
          "base_uri": "https://localhost:8080/",
          "height": 547
        }
      },
      "outputs": [
        {
          "output_type": "display_data",
          "data": {
            "text/plain": [
              "<IPython.core.display.HTML object>"
            ],
            "text/html": [
              "\n",
              "                <img id=\"screenshot_plugin_window_undefinedxsery1673988179205\" src=data:image/png;base64,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>\n",
              "                <script type=\"text/javascript\">\n",
              "                    var image = document.getElementById(\"screenshot_plugin_window_undefinedxsery1673988179205\");\n",
              "                    image.src = \"data:image/png;base64,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\";\n",
              "                    var viewer = document.getElementById(\"plugin_window_undefinedxsery1673988179205\");\n",
              "                    // Hide the static image if the Viewer is visible\n",
              "                    image.style.display = viewer ? \"none\" : \"block\";\n",
              "                </script>\n",
              "            "
            ]
          },
          "metadata": {}
        },
        {
          "output_type": "display_data",
          "data": {
            "text/plain": [
              "<IPython.core.display.HTML object>"
            ],
            "text/html": [
              "<script src=\"https://lib.imjoy.io/imjoy-loader.js\"></script>\n",
              "<script>\n",
              "  function randId() {\n",
              "    return Math.random()\n",
              "      .toString(36)\n",
              "      .substr(2, 10);\n",
              "  }\n",
              "\n",
              "  class MessageEmitter {\n",
              "    constructor(debug) {\n",
              "      this._event_handlers = {};\n",
              "      this._once_handlers = {};\n",
              "      this._debug = debug;\n",
              "    }\n",
              "    emit() {\n",
              "      throw new Error(\"emit is not implemented\");\n",
              "    }\n",
              "    on(event, handler) {\n",
              "      if (!this._event_handlers[event]) {\n",
              "        this._event_handlers[event] = [];\n",
              "      }\n",
              "      this._event_handlers[event].push(handler);\n",
              "    }\n",
              "    once(event, handler) {\n",
              "      handler.___event_run_once = true;\n",
              "      this.on(event, handler);\n",
              "    }\n",
              "    off(event, handler) {\n",
              "      if (!event && !handler) {\n",
              "        // remove all events handlers\n",
              "        this._event_handlers = {};\n",
              "      } else if (event && !handler) {\n",
              "        // remove all hanlders for the event\n",
              "        if (this._event_handlers[event]) this._event_handlers[event] = [];\n",
              "      } else {\n",
              "        // remove a specific handler\n",
              "        if (this._event_handlers[event]) {\n",
              "          const idx = this._event_handlers[event].indexOf(handler);\n",
              "          if (idx >= 0) {\n",
              "            this._event_handlers[event].splice(idx, 1);\n",
              "          }\n",
              "        }\n",
              "      }\n",
              "    }\n",
              "    _fire(event, data) {\n",
              "      if (this._event_handlers[event]) {\n",
              "        var i = this._event_handlers[event].length;\n",
              "        while (i--) {\n",
              "          const handler = this._event_handlers[event][i];\n",
              "          try {\n",
              "            handler(data);\n",
              "          } catch (e) {\n",
              "            console.error(e);\n",
              "          } finally {\n",
              "            if (handler.___event_run_once) {\n",
              "              this._event_handlers[event].splice(i, 1);\n",
              "            }\n",
              "          }\n",
              "        }\n",
              "      } else {\n",
              "        if (this._debug) {\n",
              "          console.warn(\"unhandled event\", event, data);\n",
              "        }\n",
              "      }\n",
              "    }\n",
              "  }\n",
              "\n",
              "  class Connection extends MessageEmitter {\n",
              "    constructor(config) {\n",
              "      super(config && config.debug);\n",
              "      google.colab.kernel.comms.open('imjoy_rpc', {}).then((comm) => {\n",
              "        setTimeout(async () => {\n",
              "          for await (const msg of comm.messages) {\n",
              "            const data = msg.data;\n",
              "            const buffer_paths = data.__buffer_paths__ || [];\n",
              "            delete data.__buffer_paths__;\n",
              "            put_buffers(data, buffer_paths, msg.buffers || []);\n",
              "            if (data.type === \"log\" || data.type === \"info\") {\n",
              "              console.log(data.message);\n",
              "            } else if (data.type === \"error\") {\n",
              "              console.error(data.message);\n",
              "            } else {\n",
              "              if (data.peer_id) {\n",
              "                this._peer_id = data.peer_id\n",
              "              }\n",
              "              this._fire(data.type, data);\n",
              "            }\n",
              "          }\n",
              "        }, 0)\n",
              "        this.comm = comm;\n",
              "      }).catch((e) => {\n",
              "        console.error(\"failed to connect to imjoy plugin\")\n",
              "        document.getElementById('loading').style.display = 'none';\n",
              "        document.getElementById('app').parentNode.innerHTML =\n",
              "          \"Execute this cell again to see the ImJoy plugin\";\n",
              "      })\n",
              "    }\n",
              "    connect() {}\n",
              "    disconnect() {}\n",
              "    emit(data) {\n",
              "      data.peer_id = this._peer_id;\n",
              "      const split = remove_buffers(data);\n",
              "      split.state.__buffer_paths__ = split.buffer_paths;\n",
              "      this.comm.send(split.state, {\n",
              "        buffers: split.buffers\n",
              "      });\n",
              "    }\n",
              "  };\n",
              "\n",
              "  function isSerializable(object) {\n",
              "    return typeof object === \"object\" && object && object.toJSON;\n",
              "  }\n",
              "\n",
              "  function isObject(value) {\n",
              "    return value && typeof value === \"object\" && value.constructor === Object;\n",
              "  }\n",
              "\n",
              "  // pub_buffers and remove_buffers are taken from\n",
              "  // https://github.com/jupyter-widgets/ipywidgets/blob/master/packages/base/src/utils.ts\n",
              "  // Author: IPython Development Team\n",
              "  // License: BSD\n",
              "  function put_buffers(state, buffer_paths, buffers) {\n",
              "    buffers = buffers.map(b => {\n",
              "      if (b instanceof DataView) {\n",
              "        return b.buffer;\n",
              "      } else {\n",
              "        return b instanceof ArrayBuffer ? b : b.buffer;\n",
              "      }\n",
              "    });\n",
              "    for (let i = 0; i < buffer_paths.length; i++) {\n",
              "      const buffer_path = buffer_paths[i];\n",
              "      // say we want to set state[x][y][z] = buffers[i]\n",
              "      let obj = state;\n",
              "      // we first get obj = state[x][y]\n",
              "      for (let j = 0; j < buffer_path.length - 1; j++) {\n",
              "        obj = obj[buffer_path[j]];\n",
              "      }\n",
              "      // and then set: obj[z] = buffers[i]\n",
              "      obj[buffer_path[buffer_path.length - 1]] = buffers[i];\n",
              "    }\n",
              "  }\n",
              "\n",
              "  /**\n",
              "   * The inverse of put_buffers, return an objects with the new state where all buffers(ArrayBuffer)\n",
              "   * are removed. If a buffer is a member of an object, that object is cloned, and the key removed. If a buffer\n",
              "   * is an element of an array, that array is cloned, and the element is set to null.\n",
              "   * See put_buffers for the meaning of buffer_paths\n",
              "   * Returns an object with the new state (.state) an array with paths to the buffers (.buffer_paths),\n",
              "   * and the buffers associated to those paths (.buffers).\n",
              "   */\n",
              "  function remove_buffers(state) {\n",
              "    const buffers = [];\n",
              "    const buffer_paths = [];\n",
              "    // if we need to remove an object from a list, we need to clone that list, otherwise we may modify\n",
              "    // the internal state of the widget model\n",
              "    // however, we do not want to clone everything, for performance\n",
              "    function remove(obj, path) {\n",
              "      if (isSerializable(obj)) {\n",
              "        // We need to get the JSON form of the object before recursing.\n",
              "        // See https://developer.mozilla.org/en-US/docs/Web/JavaScript/Reference/Global_Objects/JSON/stringify#toJSON()_behavior\n",
              "        obj = obj.toJSON();\n",
              "      }\n",
              "      if (Array.isArray(obj)) {\n",
              "        let is_cloned = false;\n",
              "        for (let i = 0; i < obj.length; i++) {\n",
              "          const value = obj[i];\n",
              "          if (value) {\n",
              "            if (value instanceof ArrayBuffer || ArrayBuffer.isView(value)) {\n",
              "              if (!is_cloned) {\n",
              "                obj = obj.slice();\n",
              "                is_cloned = true;\n",
              "              }\n",
              "              buffers.push(ArrayBuffer.isView(value) ? value.buffer : value);\n",
              "              buffer_paths.push(path.concat([i]));\n",
              "              // easier to just keep the array, but clear the entry, otherwise we have to think\n",
              "              // about array length, much easier this way\n",
              "              obj[i] = null;\n",
              "            } else {\n",
              "              const new_value = remove(value, path.concat([i]));\n",
              "              // only assigned when the value changes, we may serialize objects that don't support assignment\n",
              "              if (new_value !== value) {\n",
              "                if (!is_cloned) {\n",
              "                  obj = obj.slice();\n",
              "                  is_cloned = true;\n",
              "                }\n",
              "                obj[i] = new_value;\n",
              "              }\n",
              "            }\n",
              "          }\n",
              "        }\n",
              "      } else if (isObject(obj)) {\n",
              "        for (const key in obj) {\n",
              "          let is_cloned = false;\n",
              "          if (Object.prototype.hasOwnProperty.call(obj, key)) {\n",
              "            const value = obj[key];\n",
              "            if (value) {\n",
              "              if (value instanceof ArrayBuffer || ArrayBuffer.isView(value)) {\n",
              "                if (!is_cloned) {\n",
              "                  obj = {\n",
              "                    ...obj\n",
              "                  };\n",
              "                  is_cloned = true;\n",
              "                }\n",
              "                buffers.push(ArrayBuffer.isView(value) ? value.buffer : value);\n",
              "                buffer_paths.push(path.concat([key]));\n",
              "                delete obj[key]; // for objects/dicts we just delete them\n",
              "              } else {\n",
              "                const new_value = remove(value, path.concat([key]));\n",
              "                // only assigned when the value changes, we may serialize objects that don't support assignment\n",
              "                if (new_value !== value) {\n",
              "                  if (!is_cloned) {\n",
              "                    obj = {\n",
              "                      ...obj\n",
              "                    };\n",
              "                    is_cloned = true;\n",
              "                  }\n",
              "                  obj[key] = new_value;\n",
              "                }\n",
              "              }\n",
              "            }\n",
              "          }\n",
              "        }\n",
              "      }\n",
              "      return obj;\n",
              "    }\n",
              "    const new_state = remove(state, []);\n",
              "    return {\n",
              "      state: new_state,\n",
              "      buffers: buffers,\n",
              "      buffer_paths: buffer_paths\n",
              "    };\n",
              "  }\n",
              "\n",
              "  document.getElementById('init-loader').style.display = 'block';\n",
              "  loadImJoyBasicApp({\n",
              "    version: '0.13.74',\n",
              "    process_url_query: true,\n",
              "    show_window_title: false,\n",
              "    show_progress_bar: true,\n",
              "    show_loader: true,\n",
              "    show_empty_window: true,\n",
              "    menu_style: {\n",
              "      position: \"absolute\",\n",
              "      right: 0,\n",
              "      top: \"4px\"\n",
              "    },\n",
              "    window_style: {\n",
              "      width: '100%',\n",
              "      height: '100%'\n",
              "    },\n",
              "    main_container: null,\n",
              "    menu_container: \"menu-container\",\n",
              "    window_manager_container: \"window-container\",\n",
              "    imjoy_api: {\n",
              "      alert(plugin, msg) {\n",
              "        window.imjoyApp.showSnackbar(msg);\n",
              "      },\n",
              "    } // override some imjoy API functions here\n",
              "  }).then(async app => {\n",
              "    window.imjoyApp = app;\n",
              "    makeResizable();\n",
              "    // get the api object from the root plugin\n",
              "    const api = app.imjoy.api;\n",
              "    const connection = new Connection()\n",
              "    const plugin = await app.imjoy.pm\n",
              "      .connectPlugin(connection)\n",
              "\n",
              "    const container = document.getElementById('window-container');\n",
              "    container.style.height = '500px';\n",
              "\n",
              "    try {\n",
              "      if (plugin.api.setup) {\n",
              "        await plugin.api.setup()\n",
              "\n",
              "      }\n",
              "    } catch (e) {\n",
              "      console.error(e)\n",
              "    } finally {\n",
              "      document.getElementById('init-loader').style.display = 'none';\n",
              "    }\n",
              "    if (plugin.api.run) {\n",
              "      await plugin.api.run({\n",
              "        config: {},\n",
              "        data: {}\n",
              "      });\n",
              "    }\n",
              "\n",
              "    app.addMenuItem({\n",
              "      label: \"▶️ Run\",\n",
              "      async callback() {\n",
              "        await plugin.api.run({\n",
              "          config: {},\n",
              "          data: {}\n",
              "        });\n",
              "      }\n",
              "    })\n",
              "\n",
              "  });\n",
              "\n",
              "  function makeResizable() {\n",
              "    const element = document.getElementById('window-container');\n",
              "    //create box in bottom-left\n",
              "    const resizer = document.createElement('div');\n",
              "    resizer.style.width = '40px';\n",
              "    resizer.style.height = '3px';\n",
              "    resizer.style.background = '#80808061';\n",
              "    resizer.style.position = 'fixed';\n",
              "    resizer.style.left = \"50%\";\n",
              "    resizer.style.cursor = 'row-resize';\n",
              "    //Append Child to Element\n",
              "    element.parentNode.appendChild(resizer);\n",
              "    //box function onmousemove\n",
              "    resizer.addEventListener('mousedown', initResize, false);\n",
              "\n",
              "    //Window funtion mousemove & mouseup\n",
              "    function initResize(e) {\n",
              "      window.addEventListener('mousemove', Resize, false);\n",
              "      window.addEventListener('mouseup', stopResize, false);\n",
              "    }\n",
              "    //resize the element\n",
              "    function Resize(e) {\n",
              "      // element.style.width = (e.clientX - element.offsetLeft) + 'px';\n",
              "      element.style.height = (e.clientY - element.offsetTop) + 'px';\n",
              "    }\n",
              "    //on mouseup remove windows functions mousemove & mouseup\n",
              "    function stopResize(e) {\n",
              "      window.removeEventListener('mousemove', Resize, false);\n",
              "      window.removeEventListener('mouseup', stopResize, false);\n",
              "    }\n",
              "  }\n",
              "</script>\n",
              "<div class=\"loader\" id=\"loading\"></div>\n",
              "<div id=\"window-container\" style=\"z-index: 100;\"></div>\n",
              "<div id=\"menu-container\" style=\"z-index: 200\"></div>\n",
              "<div class=\"imjoy-loader\" style=\"display:none;\" id=\"init-loader\"></div>"
            ]
          },
          "metadata": {}
        },
        {
          "output_type": "display_data",
          "data": {
            "text/plain": [
              "<IPython.core.display.HTML object>"
            ],
            "text/html": [
              "<div id=\"f3daa305-fec8-4da9-88a1-b0c030374c0e\"></div>"
            ]
          },
          "metadata": {}
        }
      ],
      "source": [
        "viewerB = view(image=pro_mr_image, \n",
        "               label_image=pro_seg_image)"
      ]
    },
    {
      "cell_type": "code",
      "execution_count": 19,
      "metadata": {
        "id": "y9YVgL16ZRor"
      },
      "outputs": [],
      "source": [
        "viewerB.set_image_color_map(\"Grayscale\")\n",
        "viewerB.set_image_color_range([0,400])\n",
        "viewerB.set_view_mode(\"ZPlane\")\n",
        "viewerB.set_z_slice(53)\n",
        "viewerB.set_ui_collapsed(False)"
      ]
    },
    {
      "cell_type": "markdown",
      "metadata": {
        "id": "DYXsNGcY93B8"
      },
      "source": [
        "# Acknowledgements\n",
        "\n",
        "TCIA is funded by the [Cancer Imaging Program (CIP)](https://imaging.cancer.gov/), a part of the United States [National Cancer Institute (NCI)](https://www.cancer.gov/), and is managed by the [Frederick National Laboratory for Cancer Research (FNLCR)](https://frederick.cancer.gov/).\n",
        "\n",
        "If you leverage this notebook or any TCIA datasets in your work, please be sure to comply with the [TCIA Data Usage Policy](https://wiki.cancerimagingarchive.net/x/c4hF). In particular, make sure to cite the DOI(s) for the specific TCIA datasets you used in addition to TCIA citation provided below!\n",
        "\n",
        "This notebook was created by [Stephen Aylward (Kitware)](https://www.kitware.com/stephen-aylward/), [Justin Kirby (Frederick National Laboratory for Cancer Research)](https://www.linkedin.com/in/justinkirby82/), [Brianna Major (Kitware)](https://www.kitware.com/brianna-major/), and [Matt McCormick (Kitware)](https://www.kitware.com/matt-mccormick/).   The creation of this notebook was funded, in part, by NIBIB and NIGMS R01EB021396, NIBIB R01EB014955, NCI R01CA220681, and NINDS R42NS086295.\n",
        "\n",
        "If you have any questions, suggestions, or issues with itkWidgets, please post them on the [itkwidget issue tracker](https://github.com/InsightSoftwareConsortium/itkwidgets/issues) or feel free to email us at kitware@kitware.com.\n",
        "\n",
        "## Data Citation\n",
        "Some of the data used in this notebook was part of the Pediatric-CT-SEG collection:\n",
        "\n",
        "Jordan, P., Adamson, P. M., Bhattbhatt, V., Beriwal, S., Shen, S., Radermecker, O., Bose, S., Strain, L. S., Offe, M., Fraley, D., Principi, S., Ye, D. H., Wang, A. S., Van Heteren, J., Vo, N.-J., & Schmidt, T. G. (2021). Pediatric Chest/Abdomen/Pelvic CT Exams with Expert Organ Contours (Pediatric-CT-SEG) (Version 2) [Data set]. The Cancer Imaging Archive. https://doi.org/10.7937/TCIA.X0H0-1706\n",
        "\n",
        "Some of the data used in this notebook was part of the ProstateX challenge:\n",
        "\n",
        "Geert Litjens, Oscar Debats, Jelle Barentsz, Nico Karssemeijer, and Henkjan Huisman. \"ProstateX Challenge data\", The Cancer Imaging Archive (2017). DOI: 10.7937/K9TCIA.2017.MURS5CL\n",
        "\n",
        "## Publication Citation\n",
        "Some of the data used in this notebook was part of the Pediatric-CT-SEG collection:\n",
        "\n",
        "Jordan, P., Adamson, P. M., Bhattbhatt, V., Beriwal, S., Shen, S., Radermecker, O., Bose, S., Strain, L. S., Offe, M., Fraley, D., Principi, S., Ye, D. H., Wang, A. S., Heteren, J., Vo, N., & Schmidt, T. G. (2022). Pediatric chest‐abdomen‐pelvis and abdomen‐pelvis CT images with expert organ contours. In Medical Physics (Vol. 49, Issue 5, pp. 3523–3528). Wiley. https://doi.org/10.1002/mp.15485\n",
        "\n",
        "Some of the data used in this notebook was part of the ProstateX challenge:\n",
        "\n",
        "Litjens G, Debats O, Barentsz J, Karssemeijer N, Huisman H. \"Computer-aided detection of prostate cancer in MRI\", IEEE Transactions on Medical Imaging 2014;33:1083-1092. DOI: 10.1109/TMI.2014.2303821\n",
        "\n",
        "## TCIA Citation\n",
        "\n",
        "Clark, K., Vendt, B., Smith, K., Freymann, J., Kirby, J., Koppel, P., Moore, S., Phillips, S., Maffitt, D., Pringle, M., Tarbox, L., & Prior, F. (2013). The Cancer Imaging Archive (TCIA): Maintaining and Operating a Public Information Repository. Journal of Digital Imaging, 26(6), 1045–1057. https://doi.org/10.1007/s10278-013-9622-7"
      ]
    }
  ],
  "metadata": {
    "colab": {
      "provenance": []
    },
    "kernelspec": {
      "display_name": "Python 3 (ipykernel)",
      "language": "python",
      "name": "python3"
    },
    "language_info": {
      "codemirror_mode": {
        "name": "ipython",
        "version": 3
      },
      "file_extension": ".py",
      "mimetype": "text/x-python",
      "name": "python",
      "nbconvert_exporter": "python",
      "pygments_lexer": "ipython3",
      "version": "3.8.10"
    }
  },
  "nbformat": 4,
  "nbformat_minor": 0
}