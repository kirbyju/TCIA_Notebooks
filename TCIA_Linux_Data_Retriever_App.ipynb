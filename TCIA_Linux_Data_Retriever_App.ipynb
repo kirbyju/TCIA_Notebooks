{
  "cells": [
    {
      "cell_type": "markdown",
      "source": [
        "You can download and run this notebook locally, or you can run it for free in a cloud environment using Colab or Sagemaker Studio Lab:\n",
        "\n",
        "[![Open In Colab](https://colab.research.google.com/assets/colab-badge.svg)](https://colab.research.google.com/github/kirbyju/TCIA_Notebooks/blob/main/TCIA_Linux_Data_Retriever_App.ipynb)\n",
        "\n",
        "[![Open In SageMaker Studio Lab](https://studiolab.sagemaker.aws/studiolab.svg)](https://studiolab.sagemaker.aws/import/github.com/kirbyju/TCIA_Notebooks/blob/main/TCIA_Linux_Data_Retriever_App.ipynb)"
      ],
      "metadata": {
        "id": "mWCkW028-jay"
      }
    },
    {
      "cell_type": "markdown",
      "metadata": {
        "id": "KmXfYFZtja2F"
      },
      "source": [
        "# Summary\n",
        "\n",
        "Access to large, high-quality datasets is essential for researchers to understand disease and precision medicine pathways, especially in cancer. However, HIPAA constraints make sharing medical images outside an individual institution a complex process. [The Cancer Imaging Archive (TCIA)](https://www.cancerimagingarchive.net/) is a public service funded by the National Cancer Institute that addresses this challenge by providing hosting and de-identification services to take major burdens of data sharing off researchers.\n",
        "\n",
        "**This notebook is focused on basic use cases for identifying TCIA datasets of interest and downloading them using the NBIA Data Retriever application via the command line on a Linux operating system.** If you're interested in additional TCIA notebooks and coding examples, check out the tutorials at https://github.com/kirbyju/TCIA_Notebooks."
      ]
    },
    {
      "cell_type": "markdown",
      "metadata": {
        "id": "AruUGe3lmjkh"
      },
      "source": [
        "# 1 Learn about Available Collections on the TCIA Website\n",
        "\n",
        "[Browsing Collections](https://www.cancerimagingarchive.net/collections) and viewing [Analysis Results](https://www.cancerimagingarchive.net/tcia-analysis-results/) of datasets on TCIA are the easiest ways to become familiar with what is available. These pages will help you quickly identify datasets of interest, find valuable supporting data that are not available via our APIs (e.g. clinical spreadsheets and non-DICOM segmentation data), and answer the most common questions you might have about the datasets.  "
      ]
    },
    {
      "cell_type": "markdown",
      "source": [
        "# 2 Downloading images and annotations with the NBIA Data Retriever\n",
        "\n",
        "TCIA uses software called NBIA to manage its DICOM data.  One way to download TCIA data is to install the NBIA Data Retriever.  This tool provides a number of useful features such as auto-retry if there are any problems, saving data in an organized hierarchy on your hard drive (Collection > Patient > Study > Series > Images), and providing a CSV file containing key DICOM metadata about the images you've downloaded.\n",
        "\n",
        "**Note:** It's also possible to download these data via our REST API if you can't or don't want to install the NBIA Data Retriever. This is covered in a [separate notebook](https://github.com/kirbyju/TCIA_Notebooks/blob/main/TCIA_REST_API_Downloads.ipynb)."
      ],
      "metadata": {
        "id": "eRvQa63-kJIY"
      }
    },
    {
      "cell_type": "markdown",
      "source": [
        "## 2.1 Install the NBIA Data Retriever\n",
        "There are versions of this tool for Windows, Mac and Linux.  If you're working from a system with a GUI you can follow the [instructions](https://wiki.cancerimagingarchive.net/display/NBIA/Downloading+TCIA+Images) to install Data Retriever on your computer.\n",
        "\n",
        "There is also a [command-line version of the NBIA Data Retriever](https://wiki.cancerimagingarchive.net/x/2QKPBQ) which can be installed via the steps below if you're running this notebook in a **Linux** environment.  "
      ],
      "metadata": {
        "id": "RtLE_18NoaJ8"
      }
    },
    {
      "cell_type": "code",
      "metadata": {
        "id": "B714bOkDk8kd"
      },
      "source": [
        "# Install NBIA Data Retriever CLI software for downloading images later in this notebook.\n",
        "\n",
        "!mkdir /usr/share/desktop-directories/\n",
        "!wget -P /content/NBIA-Data-Retriever https://cbiit-download.nci.nih.gov/nbia/releases/ForTCIA/NBIADataRetriever_4.4/nbia-data-retriever-4.4.2.deb\n",
        "!dpkg -i /content/NBIA-Data-Retriever/nbia-data-retriever-4.4.2.deb\n",
        "\n",
        "# NOTE: If you're working on a Linux OS that uses RPM packages, you can change the lines above to use\n",
        "#       https://cbiit-download.nci.nih.gov//nbia/releases/ForTCIA/NBIADataRetriever_4.4/NBIADataRetriever-4.4-2.x86_64.rpm"
      ],
      "execution_count": null,
      "outputs": []
    },
    {
      "cell_type": "markdown",
      "metadata": {
        "id": "2uMbL1nwIJ5f"
      },
      "source": [
        "### 2.2 Download a Manifest File\n",
        "The NBIA Data Retriever software works by ingesting a \"manifest\" file that contains the DICOM Series Instance UIDs of the scans you'd like to download. Let's assume that after [browsing the collections](https://www.cancerimagingarchive.net/collections), you decided you were interested in the [RIDER Breast MRI](https://doi.org/10.7937/K9/TCIA.2015.H1SXNUXL) Collection.  We can find the URL of the manifest to download the full collection by looking at the blue \"Download\" button on that page.  Then we can download the manifest with the following command.\n"
      ]
    },
    {
      "cell_type": "code",
      "source": [
        "!wget https://wiki.cancerimagingarchive.net/download/attachments/22512757/doiJNLP-Fo0H1NtD.tcia"
      ],
      "metadata": {
        "id": "sb5HEOgC_lYm"
      },
      "execution_count": null,
      "outputs": []
    },
    {
      "cell_type": "markdown",
      "source": [
        "If you look at the file you'll see some configuration information at the top, followed by a list of Series Instance UIDs that are part of the dataset.  \n",
        "\n",
        "Let's edit the manifest file to only include the first 3 UIDs in the manifest so that we can demonstrate the download process more quickly.\n"
      ],
      "metadata": {
        "id": "RhG_JOUZ-CpF"
      }
    },
    {
      "cell_type": "code",
      "execution_count": null,
      "metadata": {
        "id": "Gsorr-mi7--3"
      },
      "outputs": [],
      "source": [
        "with open('doiJNLP-Fo0H1NtD.tcia','r') as firstfile, open('RIDER-Breast-MRI-Sample.tcia','a') as secondfile:\n",
        "    count = 0\n",
        "    for line in firstfile:\n",
        "        # append content to second file\n",
        "        secondfile.write(line)\n",
        "        # Stop after header and first 3 series UIDs\n",
        "        count += 1;\n",
        "        if count == 9:\n",
        "            break"
      ]
    },
    {
      "cell_type": "markdown",
      "metadata": {
        "id": "IlPLgxkBZPMS"
      },
      "source": [
        "### 2.3 Open the Manifest File with the NBIA Data Retriever\n",
        "Next, let's open the sample manifest file with the NBIA Data Retriever to download the actual DICOM data.\n",
        "\n",
        "**<font color='red'>After running the following command, click in the output cell, type \"y,\" and press Enter to agree with the TCIA Data Usage Policy and start the download.</font>**"
      ]
    },
    {
      "cell_type": "code",
      "execution_count": null,
      "metadata": {
        "id": "a4lklpk4Xwpc"
      },
      "outputs": [],
      "source": [
        "# download the data using NBIA Data Retriever\n",
        "\n",
        "!/opt/nbia-data-retriever/nbia-data-retriever --cli '/content/RIDER-Breast-MRI-Sample.tcia' -d /content/"
      ]
    },
    {
      "cell_type": "markdown",
      "metadata": {
        "id": "zgESwVXSawv_"
      },
      "source": [
        "### 2.4 Review the Downloaded Data\n",
        "You should now find that the data have been saved to your machine in a well-organized hierarchy with some useful metadata in the accompanying CSV file and a license file detailing how it can be used.\n",
        "\n",
        "With the release of v4.4.1 the CLI Data Retriever now supports both \"Descriptive\" and \"Classic\" organization of the data.  In short, Descriptive naming provides more human-readable directory names whereas Classic names everything by machine-readable unique identifiers.\n",
        "\n",
        "* The **Descriptive Directory Name (default)** organizes the files in a child folder under the destination folder as follows: Collection Name > Patient ID > Study Date + Study ID + Study Description (54 char max) + last 5 digits of Study Instance UID > Series Number + Series Description (54 char max) + last 5 digits of Series Instance UID\n",
        "* The **Classic Directory Name** organizes the files in a child folder under the destination folder as follows: Collection Name > Patient ID > Study Instance UID > Series Instance UID.  \n",
        "\n",
        "Let's try downloading the same data with the classic directory flag **-cd** so you can see the difference.  Data Retriever will prompt you with a warning letting you know that these data have already been downloaded.  Choose that you'd like to redownload \"All\" of the data so that you can see the difference in how it names the Study and Series subdirectories.\n",
        "\n"
      ]
    },
    {
      "cell_type": "code",
      "source": [
        "# download the data using NBIA Data Retriever with the classic directory name flag\n",
        "\n",
        "!/opt/nbia-data-retriever/nbia-data-retriever --cli '/content/RIDER-Breast-MRI-Sample.tcia' -d /content/ -cd"
      ],
      "metadata": {
        "id": "bnsLae6Rxj2g"
      },
      "execution_count": null,
      "outputs": []
    },
    {
      "cell_type": "markdown",
      "metadata": {
        "id": "39ilU9kTkac3"
      },
      "source": [
        "### 2.5 Downloading \"Limited-Access\" Collections with the NBIA Data Retriever\n",
        "In some cases, you must specifically request access to [Collections](https://www.cancerimagingarchive.net/collections/) before you can download them.  Information about how to do this can be found on the homepage for the Collection(s) you're interested in, but will always require that you first [create a TCIA user account](https://wiki.cancerimagingarchive.net/x/xgHDAg)."
      ]
    },
    {
      "cell_type": "markdown",
      "metadata": {
        "id": "hit1qkiloRaX"
      },
      "source": [
        "Let's say that we're interested in the [RIDER Neuro MRI](http://doi.org/10.7937/K9/TCIA.2015.VOSN3HN1) Collection. As you can see on the Collection page, you must sign and submit a TCIA Restricted License Agreement to help@cancerimagingarchive.net before accessing the data. Once you've done this, click the blue Download button on the RIDER Neuro MRI page to save the manifest file to your computer or grab it by using the code shown below."
      ]
    },
    {
      "cell_type": "code",
      "execution_count": null,
      "metadata": {
        "id": "qzy7mz0MxSkz"
      },
      "outputs": [],
      "source": [
        "!wget https://wiki.cancerimagingarchive.net/download/attachments/22512753/TCIA_RIDER_NEURO_MRI_06-22-2015.tcia"
      ]
    },
    {
      "cell_type": "markdown",
      "source": [
        "Once again, let's edit the manifest file to download only the first three scans."
      ],
      "metadata": {
        "id": "T_O28jXJ-R36"
      }
    },
    {
      "cell_type": "code",
      "execution_count": null,
      "metadata": {
        "id": "fj3XNpnPBFjY"
      },
      "outputs": [],
      "source": [
        "with open('TCIA_RIDER_NEURO_MRI_06-22-2015.tcia','r') as firstfile, open('RIDER-Neuro-MRI-Sample.tcia','a') as secondfile:\n",
        "    count = 0\n",
        "    for line in firstfile:\n",
        "        # append content to second file\n",
        "        secondfile.write(line)\n",
        "        # Stop after header and first 3 series UIDs\n",
        "        count += 1;\n",
        "        if count == 9:\n",
        "            break"
      ]
    },
    {
      "cell_type": "markdown",
      "metadata": {
        "id": "vCjyQWmwRFDp"
      },
      "source": [
        "Once you've created an account, you can use your login/password to create the **credentials.txt** file that NBIA Data Retriever uses to verify your permissions. The format of the text file must be identical to this:\n",
        "\n",
        "```\n",
        "userName=YourUserName\n",
        "passWord=YourPassword\n",
        "```\n",
        "The userName and passWord parameters are case sensitive.  Alternatively, the **nbia.makeCredentialFile()** function in **[tcia_utils](https://github.com/kirbyju/tcia_utils)** can be used to easily create a properly formed credential file.  This was added as a convenience to those who have this python package installed, which provides many features to work with TCIA APIs.  However, it's easier to just create the text file if you don't have any plans to use our APIs.\n",
        "\n",
        "Once you've created your credentials.txt file we'll need to call NBIA Data Retriever with the \"-l\" parameter to tell it where you saved your credential file.  Don't forget to update your paths if necessary.\n",
        "\n",
        "**<font color='red'>After running the following command, click in the output cell, type \"y,\" and press Enter to agree with the TCIA Data Usage Policy and start the download.</font>**"
      ]
    },
    {
      "cell_type": "code",
      "execution_count": null,
      "metadata": {
        "id": "pbAUZ3jznRXR"
      },
      "outputs": [],
      "source": [
        "# download the data using the NBIA Data Retriever\n",
        "# you may need to update the path to your credential file\n",
        "\n",
        "!/opt/nbia-data-retriever/nbia-data-retriever --cli '/content/RIDER-Neuro-MRI-Sample.tcia' -d /content/ -l /content/credentials.txt"
      ]
    },
    {
      "cell_type": "markdown",
      "metadata": {
        "id": "DYXsNGcY93B8"
      },
      "source": [
        "# Acknowledgements\n",
        "TCIA is funded by the [Cancer Imaging Program (CIP)](https://imaging.cancer.gov/), a part of the United States [National Cancer Institute (NCI)](https://www.cancer.gov/), and is managed by the [Frederick National Laboratory for Cancer Research (FNLCR)](https://frederick.cancer.gov/).\n",
        "\n",
        "This notebook was created by [Justin Kirby](https://www.linkedin.com/in/justinkirby82/). If you leverage this notebook or any TCIA datasets in your work, please be sure to comply with the [TCIA Data Usage Policy](https://wiki.cancerimagingarchive.net/x/c4hF). In particular, make sure to cite the DOI(s) for the specific TCIA datasets you used in addition to the following paper!\n",
        "\n",
        "## TCIA Citation\n",
        "\n",
        "Clark, K., Vendt, B., Smith, K., Freymann, J., Kirby, J., Koppel, P., Moore, S., Phillips, S., Maffitt, D., Pringle, M., Tarbox, L., & Prior, F. (2013). The Cancer Imaging Archive (TCIA): Maintaining and Operating a Public Information Repository. Journal of Digital Imaging, 26(6), 1045–1057. https://doi.org/10.1007/s10278-013-9622-7"
      ]
    }
  ],
  "metadata": {
    "colab": {
      "provenance": []
    },
    "kernelspec": {
      "display_name": "Python 3",
      "name": "python3"
    },
    "language_info": {
      "name": "python"
    }
  },
  "nbformat": 4,
  "nbformat_minor": 0
}