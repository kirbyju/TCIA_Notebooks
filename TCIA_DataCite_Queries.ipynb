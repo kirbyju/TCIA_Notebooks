{
  "cells": [
    {
      "cell_type": "markdown",
      "source": [
        "You can download and run this notebook locally, or you can run it for free in a cloud environment using Google Colab or Amazon Sagemaker Studio Lab:\n",
        "\n",
        "[![Open In Colab](https://colab.research.google.com/assets/colab-badge.svg)](https://colab.research.google.com/github/kirbyju/TCIA_Notebooks/blob/main/TCIA_DataCite_Queries.ipynb)\n",
        "\n",
        "[![Open In SageMaker Studio Lab](https://studiolab.sagemaker.aws/studiolab.svg)](https://studiolab.sagemaker.aws/import/github.com/kirbyju/TCIA_Notebooks/blob/main/TCIA_DataCite_Queries.ipynb)"
      ],
      "metadata": {
        "id": "cpb6dbKi6s4v"
      }
    },
    {
      "cell_type": "markdown",
      "metadata": {
        "id": "KmXfYFZtja2F"
      },
      "source": [
        "# Summary\n",
        "\n",
        "Access to large, high-quality datasets is essential for researchers to understand disease and precision medicine pathways, especially in cancer. However, HIPAA constraints make sharing medical images outside an individual institution complex. [The Cancer Imaging Archive (TCIA)](https://www.cancerimagingarchive.net/) is a public service funded by the National Cancer Institute that addresses this challenge by providing hosting and de-identification services that take major burdens of data sharing off researchers.\n",
        "\n",
        "**This notebook provides documentation for using the DataCite module of [tcia-utils](https://pypi.org/project/tcia-utils/), which is a package that contains functions to simplify common tasks one might perform when interacting with The Cancer Imaging Archive (TCIA) via Python.**  If you're interested in additional TCIA notebooks and coding examples, check out the tutorials at https://github.com/kirbyju/TCIA_Notebooks."
      ]
    },
    {
      "cell_type": "markdown",
      "metadata": {
        "id": "AruUGe3lmjkh"
      },
      "source": [
        "# 1. Introduction\n",
        "TCIA issues a Digital Object Identifier (DOI) for each of its datasets through [DataCite](https://datacite.org/value.html).  The [DataCite API](https://wiki.cancerimagingarchive.net/x/YwD5BQ) can be used to programmatically access Collection metadata such as their DOI URL, title, publication date, licensing information and abstract.\n",
        "\n",
        "Please note that **this API was not developed by TCIA.** See https://support.datacite.org/ for any technical questions.  The TCIA Helpdesk may be able to assist if your inquiry is related to the content of the data itself.\n",
        "\n"
      ]
    },
    {
      "cell_type": "markdown",
      "metadata": {
        "id": "bqulqBEDMSS6"
      },
      "source": [
        "# 2. tcia_utils Overview and Installation\n",
        "\n",
        "The following cells install and import the DataCite module from [**tcia_utils**](https://pypi.org/project/tcia-utils/).\n"
      ]
    },
    {
      "cell_type": "code",
      "execution_count": null,
      "metadata": {
        "id": "p3zEqnxi9rk2"
      },
      "outputs": [],
      "source": [
        "import sys\n",
        "\n",
        "!{sys.executable} -m pip install --upgrade -q tcia_utils"
      ]
    },
    {
      "cell_type": "code",
      "execution_count": null,
      "metadata": {
        "id": "zP4VRfgg-QXU"
      },
      "outputs": [],
      "source": [
        "import pandas as pd\n",
        "from tcia_utils import datacite"
      ]
    },
    {
      "cell_type": "markdown",
      "source": [
        "# 3. Get information about TCIA DOIs"
      ],
      "metadata": {
        "id": "wTSE85EQGmzD"
      }
    },
    {
      "cell_type": "markdown",
      "source": [
        "The datacite module contains a function called **getDOI()** which returns metadata for all TCIA DOIs as a dataframe.\n"
      ],
      "metadata": {
        "id": "-CqMm3tIJ2Fb"
      }
    },
    {
      "cell_type": "code",
      "source": [
        "df = datacite.getDoi()\n",
        "display(df)"
      ],
      "metadata": {
        "id": "jeiV5HOwJ2nH"
      },
      "execution_count": null,
      "outputs": []
    },
    {
      "cell_type": "markdown",
      "source": [
        "As a convenience, you can use the **searchDf()** function to easily filter the output of resulting dataframes.  Let's try searching for \"lung\" to look for this term across all columns in the dataframe."
      ],
      "metadata": {
        "id": "Kun_JsXDLVjt"
      }
    },
    {
      "cell_type": "code",
      "source": [
        "datacite.searchDf(\"lung\", dataframe = df)"
      ],
      "metadata": {
        "id": "Oh470obvMhMo"
      },
      "execution_count": null,
      "outputs": []
    },
    {
      "cell_type": "markdown",
      "source": [
        "You can also limit your search to a specific column in the dataframe as shown below.  Let's look for all datasets that have **\"nctn\"** in the Rights column."
      ],
      "metadata": {
        "id": "9ldcC7YSZu-x"
      }
    },
    {
      "cell_type": "code",
      "source": [
        "datacite.searchDf(\"nctn\", dataframe = df, column_name = \"Rights\")"
      ],
      "metadata": {
        "id": "NwzoaaGtZ2Yd"
      },
      "execution_count": null,
      "outputs": []
    },
    {
      "cell_type": "markdown",
      "source": [
        "If you'd like to save the output as a CSV for later use or prefer working with the data in Excel you can set the **format** parameter to **csv**."
      ],
      "metadata": {
        "id": "nlRxiHFSKbjI"
      }
    },
    {
      "cell_type": "code",
      "source": [
        "datacite.getDoi(format = \"csv\")"
      ],
      "metadata": {
        "id": "tCRcMYY4KY9b"
      },
      "execution_count": null,
      "outputs": []
    },
    {
      "cell_type": "markdown",
      "source": [
        "Alternatively, you can get the results in the native **JSON** format that the Datacite API provides.  This includes some additional information that is not contained in the dataframe/CSV."
      ],
      "metadata": {
        "id": "2lImNYLvK9au"
      }
    },
    {
      "cell_type": "code",
      "source": [
        "datacite.getDoi(format = \"json\")"
      ],
      "metadata": {
        "id": "ySMbB_ahK9LN"
      },
      "execution_count": null,
      "outputs": []
    },
    {
      "cell_type": "markdown",
      "source": [
        "# 4. Search for datasets that were derived from TCIA datasets\n",
        "\n",
        "DataCite has an attribute in their schema called **isDerivedFrom** which can be used to specify this relationship between datasets.  **tcia_utils** has a function called **getDerivedDois()** which can be used to search for these derived datasets.  You can request information about a single DOI or a list of DOIs, and can specify the format in the same manner as **getDoi()**.\n",
        "\n",
        "Let's say that you're one of the organizers of the **Brain Tumor Segmentation (BraTS) challenge** and want to retrieve all TCIA DOIs, reduce the list to those related to datasets related to **BraTS** and then look for any derived datasets that exist in DataCite."
      ],
      "metadata": {
        "id": "9fpENmspO8Vl"
      }
    },
    {
      "cell_type": "code",
      "source": [
        "# Retrieve TCIA DOIs\n",
        "dois = datacite.getDoi()\n",
        "\n",
        "# Filter for those related to BraTS\n",
        "brats = datacite.searchDf(\"BraTS\", dataframe = dois)\n",
        "\n",
        "# Convert the DOI column in the DataFrame to a list\n",
        "doi_list = brats['DOI'].tolist()\n",
        "\n",
        "# Provide the list of DOIs as input to getDerivedDois\n",
        "derived_dois = datacite.getDerivedDois(doi_list, format='df')\n",
        "\n",
        "derived_dois"
      ],
      "metadata": {
        "id": "RQMuLoE4PZNd"
      },
      "execution_count": null,
      "outputs": []
    },
    {
      "cell_type": "markdown",
      "source": [
        "Alternatively, let's say you are one of the authors of the [LIDC-IDRI](https://doi.org/10.7937/K9/TCIA.2015.LO9QL9SX) collection and want to know about datasets that were derived from this collection.  In this case you can find the related DOI in the **Data Citation** found in the **Citations & Data Usage Policy** section of the LIDC-IDRI homepage and enter it directly as a parameter as shown below."
      ],
      "metadata": {
        "id": "-mNMvlmGo2jO"
      }
    },
    {
      "cell_type": "code",
      "source": [
        "datacite.getDerivedDois(\"10.7937/K9/TCIA.2015.LO9QL9SX\")"
      ],
      "metadata": {
        "id": "fyor9auSpBwi"
      },
      "execution_count": null,
      "outputs": []
    },
    {
      "cell_type": "markdown",
      "metadata": {
        "id": "DYXsNGcY93B8"
      },
      "source": [
        "# Acknowledgements\n",
        "TCIA is funded by the [Cancer Imaging Program (CIP)](https://imaging.cancer.gov/), a part of the United States [National Cancer Institute (NCI)](https://www.cancer.gov/).  It is managed by the [Frederick National Laboratory for Cancer Research (FNLCR)](https://frederick.cancer.gov/) and hosted by the [University of Arkansas for Medical Sciences (UAMS)](https://www.uams.edu/)\n",
        "\n",
        "This notebook was created by [Justin Kirby](https://www.linkedin.com/in/justinkirby82/). If you leverage this notebook or any TCIA datasets in your work, please be sure to comply with the [TCIA Data Usage Policy](https://wiki.cancerimagingarchive.net/x/c4hF). In particular, make sure to cite the DOI(s) for the specific TCIA datasets you used in addition to the following paper!\n",
        "\n",
        "## TCIA Citation\n",
        "\n",
        "Clark, K., Vendt, B., Smith, K., Freymann, J., Kirby, J., Koppel, P., Moore, S., Phillips, S., Maffitt, D., Pringle, M., Tarbox, L., & Prior, F. (2013). The Cancer Imaging Archive (TCIA): Maintaining and Operating a Public Information Repository. Journal of Digital Imaging, 26(6), 1045–1057. https://doi.org/10.1007/s10278-013-9622-7"
      ]
    }
  ],
  "metadata": {
    "colab": {
      "provenance": []
    },
    "kernelspec": {
      "display_name": "Python 3",
      "name": "python3"
    },
    "language_info": {
      "name": "python"
    }
  },
  "nbformat": 4,
  "nbformat_minor": 0
}