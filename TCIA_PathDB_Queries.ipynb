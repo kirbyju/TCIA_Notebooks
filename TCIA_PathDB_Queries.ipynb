{
  "cells": [
    {
      "cell_type": "markdown",
      "source": [
        "You can download and run this notebook locally, or you can run it for free in a cloud environment using Google Colab or Amazon Sagemaker Studio Lab:\n",
        "\n",
        "[![Open In Colab](https://colab.research.google.com/assets/colab-badge.svg)](https://colab.research.google.com/github/kirbyju/TCIA_Notebooks/blob/main/TCIA_PathDB_Queries.ipynb)\n",
        "\n",
        "[![Open In SageMaker Studio Lab](https://studiolab.sagemaker.aws/studiolab.svg)](https://studiolab.sagemaker.aws/import/github.com/kirbyju/TCIA_Notebooks/blob/main/TCIA_PathDB_Queries.ipynb)"
      ],
      "metadata": {
        "id": "cpb6dbKi6s4v"
      }
    },
    {
      "cell_type": "markdown",
      "metadata": {
        "id": "KmXfYFZtja2F"
      },
      "source": [
        "# Summary\n",
        "\n",
        "Access to large, high-quality datasets is essential for researchers to understand disease and precision medicine pathways, especially in cancer. However, HIPAA constraints make sharing medical images outside an individual institution complex. [The Cancer Imaging Archive (TCIA)](https://www.cancerimagingarchive.net/) is a public service funded by the National Cancer Institute that addresses this challenge by providing hosting and de-identification services that take major burdens of data sharing off researchers.\n",
        "\n",
        "**This notebook provides documentation for using the PathDB module of [tcia-utils](https://pypi.org/project/tcia-utils/), which is a package that contains functions to simplify common tasks one might perform when interacting with The Cancer Imaging Archive (TCIA) via Python.**  If you're interested in additional TCIA notebooks and coding examples, check out the tutorials at https://github.com/kirbyju/TCIA_Notebooks."
      ]
    },
    {
      "cell_type": "markdown",
      "metadata": {
        "id": "AruUGe3lmjkh"
      },
      "source": [
        "# Introduction\n",
        "TCIA uses software called [PathDB](https://pathdb.cancerimagingarchive.net/imagesearch) to host its digital pathology datasets. PathDB works together with caMicroscope to let users browse our available dataset and visualize the slides in a browser before downloading them. This notebook is focused on using the PathDB API to access these images and metadata.\n",
        "\n",
        "**Note:** Typically, due to the large size of these datasets, we encourage users to download them using the Aspera browser plugin.  We have another notebook which shows how to use [Aspera from the command line](https://github.com/kirbyju/TCIA_Notebooks/blob/main/TCIA_Aspera_CLI_Downloads.ipynb) if you are interested in bulk downloads while working from a server without a GUI.\n",
        "\n"
      ]
    },
    {
      "cell_type": "markdown",
      "metadata": {
        "id": "bqulqBEDMSS6"
      },
      "source": [
        "# tcia_utils Overview and Installation\n",
        "\n",
        "The following cells install and import the pathDB module from [**tcia_utils**](https://pypi.org/project/tcia-utils/).\n"
      ]
    },
    {
      "cell_type": "code",
      "execution_count": null,
      "metadata": {
        "id": "p3zEqnxi9rk2"
      },
      "outputs": [],
      "source": [
        "import sys\n",
        "\n",
        "# install tcia utils\n",
        "!{sys.executable} -m pip install --upgrade -q tcia_utils"
      ]
    },
    {
      "cell_type": "code",
      "execution_count": null,
      "metadata": {
        "id": "zP4VRfgg-QXU"
      },
      "outputs": [],
      "source": [
        "import requests\n",
        "import pandas as pd\n",
        "from tcia_utils import pathdb\n",
        "\n",
        "# set logging level to INFO in Google Colab (not necessary in Jupyter)\n",
        "if 'google.colab' in sys.modules:\n",
        "  import logging\n",
        "\n",
        "  for handler in logging.root.handlers[:]:\n",
        "      logging.root.removeHandler(handler)\n",
        "\n",
        "  # Set handler with level = info\n",
        "  logging.basicConfig(format='%(asctime)s:%(levelname)s:%(message)s',\n",
        "                      level=logging.INFO)\n",
        "\n",
        "  print(\"Google Colab Logging set to INFO\")"
      ]
    },
    {
      "cell_type": "markdown",
      "source": [
        "# PathDB Query Examples\n"
      ],
      "metadata": {
        "id": "wTSE85EQGmzD"
      }
    },
    {
      "cell_type": "markdown",
      "source": [
        "## getCollections()\n",
        "The **pathdb** module contains a function called **getCollections()** to get a list of available pathology datasets.  It includes **query** and **format** parameters.  It returns a list of all collections in JSON format if no parameters are specified.  "
      ],
      "metadata": {
        "id": "-CqMm3tIJ2Fb"
      }
    },
    {
      "cell_type": "code",
      "source": [
        "pathdb.getCollections()"
      ],
      "metadata": {
        "id": "jeiV5HOwJ2nH"
      },
      "execution_count": null,
      "outputs": []
    },
    {
      "cell_type": "markdown",
      "source": [
        "Using the **format = \"df\"** parameter allows you to return a dataframe."
      ],
      "metadata": {
        "id": "nlRxiHFSKbjI"
      }
    },
    {
      "cell_type": "code",
      "source": [
        "pathdb.getCollections(format = \"df\")"
      ],
      "metadata": {
        "id": "tCRcMYY4KY9b"
      },
      "execution_count": null,
      "outputs": []
    },
    {
      "cell_type": "markdown",
      "source": [
        "Using the **query** parameter searches the **collectionName** field. Let's say that we were interested to find all TCIA datasets that mention \"CPTAC\" in their collection name by specifying **query = \"CPTAC\"**.  We can also save the output to a CSV file by specifying **format = \"csv\"**.  Check the contents of the CSV before moving on!"
      ],
      "metadata": {
        "id": "2lImNYLvK9au"
      }
    },
    {
      "cell_type": "code",
      "source": [
        "pathdb.getCollections(query = \"CPTAC\", format = \"csv\")"
      ],
      "metadata": {
        "id": "ySMbB_ahK9LN"
      },
      "execution_count": null,
      "outputs": []
    },
    {
      "cell_type": "markdown",
      "source": [
        "## getImages()\n",
        "\n",
        "You can use **getImages()** to access metadata about individual images in PathDB.  It includes **query** and **format** parameters.  The format parameter works the same way as **getCollections()**.  There are a couple of ways to use the **query** parameter.  The first is to pass a specific collectionId as an integer.  Let's use the Prostate_MRI collectionId (10) that we discovered using **getCollections()** for this example.\n",
        "\n",
        "**Note:** PathDB returns paginated results.  If your results span more than one page **getImages()** will continue to run until you reach the last page of results for your query."
      ],
      "metadata": {
        "id": "Kun_JsXDLVjt"
      }
    },
    {
      "cell_type": "code",
      "source": [
        "pathdb.getImages(query = 10)"
      ],
      "metadata": {
        "id": "FfCcuHNWLV-C"
      },
      "execution_count": null,
      "outputs": []
    },
    {
      "cell_type": "markdown",
      "source": [
        "The second way we can use the **query** parameter is to search for matches of **collectionName**.  Let's try pulling the metadata for all of the [Cancer Moonshot Biobank (CMB)](https://www.cancerimagingarchive.net/research/cmb/) collections and use a dataframe as the output.  These collections all have the naming structure of CMB-XXXX where the X's represent an abbreviation for the type of cancer."
      ],
      "metadata": {
        "id": "NN3tA768Lm84"
      }
    },
    {
      "cell_type": "code",
      "source": [
        "pathdb.getImages(query = \"cmb\", format = \"df\")"
      ],
      "metadata": {
        "id": "gVLeaB0ULmwi"
      },
      "execution_count": null,
      "outputs": []
    },
    {
      "cell_type": "markdown",
      "source": [
        "# Downloading images\n",
        "\n",
        "After querying to obtain the metadata for the images you're interested in you can download them using **downloadImages()**. This function takes the output from getImages() and downloads the files concurrently. It checks for existing files to avoid re-downloading.\n",
        "\n",
        "    Args:\n",
        "        images_data (list or pd.DataFrame): A list of dictionaries or a pandas DataFrame\n",
        "            containing image metadata, including an 'imageUrl' key.\n",
        "        path (str): The local directory to save the downloaded images.\n",
        "        max_workers (int): The maximum number of concurrent download threads.\n",
        "        number (int): The maximum number of new images to download. Defaults to 0 (no limit)."
      ],
      "metadata": {
        "id": "dZJpZ06KaXH3"
      }
    },
    {
      "cell_type": "code",
      "source": [
        "metadata = pathdb.getImages(query = \"Prostate-MRI\")\n"
      ],
      "metadata": {
        "id": "E2D-zGZPbR6a"
      },
      "execution_count": null,
      "outputs": []
    },
    {
      "cell_type": "code",
      "source": [
        "pathdb.downloadImages(metadata, path = \"ProstateMRI\", number = 10)"
      ],
      "metadata": {
        "id": "nCGTYuOAcbF3"
      },
      "execution_count": null,
      "outputs": []
    },
    {
      "cell_type": "markdown",
      "metadata": {
        "id": "DYXsNGcY93B8"
      },
      "source": [
        "# Acknowledgements\n",
        "TCIA is funded by the [Cancer Imaging Program (CIP)](https://imaging.cancer.gov/), a part of the United States [National Cancer Institute (NCI)](https://www.cancer.gov/).  It is managed by the [Frederick National Laboratory for Cancer Research (FNLCR)](https://frederick.cancer.gov/) and hosted by the [University of Arkansas for Medical Sciences (UAMS)](https://www.uams.edu/)\n",
        "\n",
        "This notebook was created by [Justin Kirby](https://www.linkedin.com/in/justinkirby82/). If you leverage this notebook or any TCIA datasets in your work, please be sure to comply with the [TCIA Data Usage Policy](https://wiki.cancerimagingarchive.net/x/c4hF). In particular, make sure to cite the DOI(s) for the specific TCIA datasets you used in addition to the following paper!\n",
        "\n",
        "## TCIA Citation\n",
        "\n",
        "Clark, K., Vendt, B., Smith, K., Freymann, J., Kirby, J., Koppel, P., Moore, S., Phillips, S., Maffitt, D., Pringle, M., Tarbox, L., & Prior, F. (2013). The Cancer Imaging Archive (TCIA): Maintaining and Operating a Public Information Repository. Journal of Digital Imaging, 26(6), 1045–1057. https://doi.org/10.1007/s10278-013-9622-7"
      ]
    }
  ],
  "metadata": {
    "colab": {
      "provenance": []
    },
    "kernelspec": {
      "display_name": "Python 3",
      "name": "python3"
    },
    "language_info": {
      "name": "python"
    }
  },
  "nbformat": 4,
  "nbformat_minor": 0
}